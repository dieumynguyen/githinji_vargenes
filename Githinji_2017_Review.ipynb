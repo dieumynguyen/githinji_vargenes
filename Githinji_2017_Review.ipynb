{
 "cells": [
  {
   "cell_type": "markdown",
   "metadata": {},
   "source": [
    "# <i>P. falciparum var</i> gene-tag classifications & analysis\n",
    "\n",
    "### This notebook is a reproduction of the following paper: <br>\n",
    "\n",
    "Githinji G & Bull PC (2017): <i>A re-assessment of gene-tag classification approaches for describing var gene expression patterns during human Plasmodium falciparum malaria parasite infections.</i> Wellcome Open Research 2017, 2:86. <br>\n",
    "\n",
    "### The methods in the above paper are previously described in detail in the following papers, which I reference throughout this notebook: \n",
    "\n",
    "#### The ultimate paper on <i>P. falciparum var</i> genes that discuss var gene classifications: <br>\n",
    "\n",
    "Rask TS, Hansen DA, Theander TG, et al. (2010): <i>Plasmodium falciparum erythrocyte membrane protein 1 diversity in seven genomes- divide and conquer.</i> PLoS Comput Biol. 2010; 6(9): pii: e1000933.\n",
    "\n",
    "#### Bull PC's papers describing the Cys/PoLV and block-sharing group methods for DBL$\\alpha$  tag classifications: <br> \n",
    "\n",
    "Bull PC, Kyes S, Buckee CO, et al. (2007): <i>An approach to classifying sequence tags sampled from Plasmodium falciparum var genes.</i> Mol Biochem Parasitol. 2007; 154(1): 98–102. <br>\n",
    "\n",
    "Bull PC, Buckee CO, Kyes S, et al. (2008): <i>Plasmodium falciparum antigenic variation. Mapping mosaic var gene sequences onto a network of shared, highly polymorphic sequence blocks.</i> Mol Microbiol. 2008; 68(6): 1519–1534.\n"
   ]
  },
  {
   "cell_type": "markdown",
   "metadata": {},
   "source": [
    "## DBL$\\alpha$ Tag Sequences:"
   ]
  },
  {
   "cell_type": "markdown",
   "metadata": {},
   "source": [
    "The DBL$\\alpha$ tag sequences have been classified using 2 different approaches: 1) Cys/poLV groups and 2) block sharing groups (BS). <br>\n",
    "\n",
    "<b>Approach #1:</b> Classify the tags using the number of cysteine residues in the sequences and the existence of mutually exclusive motifs: MFK and REY. <br>\n",
    "\n",
    "<b>Approach #2:</b> Use network analysis to define sequence groups that tend to share position-specific blocks of sequence with each other. "
   ]
  },
  {
   "cell_type": "markdown",
   "metadata": {},
   "source": [
    "###  ◼  Approach #1. Classification of DBL$\\alpha$ sequences: Cys/poLV groups "
   ]
  },
  {
   "cell_type": "markdown",
   "metadata": {},
   "source": [
    "**Dataset:** A total of 1,548 published DBL$\\alpha$ sequences was obtained from Kilifi (Bull et al., 2008, n=1226) and from published parasite genomes (Rask et al., 2010, n=313), together with three DC8 sequences from a study conducted in Tanzania (Lavstsen et al., 2012) and six sequences from “sig2” sequences from (Bull et al., 2005b). All stored in FASTA file \"1548_tags.fa\".  <br>\n",
    "\n",
    "**Source:** Githinji & Bull (2017): https://osf.io/uwcn2/ under \"datasets.\"<br>\n",
    "\n",
    "**Method described in detail in:** Bull PC, Kyes S, Buckee CO, et al. (2007): <i>An approach to classifying sequence tags sampled from Plasmodium falciparum var genes.</i> Mol Biochem Parasitol. 2007; 154(1): 98–102. <br>\n",
    "\n",
    "**The idea:** Extract 2 features from DBL$\\alpha$ sequences: number of cysteines and positions of limited variability (poLV) (based on mutually exclusive existence of motifs MFK at poLV1, REY at poLV2). If sequences of different length recombine with each other, they generate a wide range of sequences of different lengths, whereas genetically isolated sequences (those not recombining with each other) can maintain distinct distributions in their length. If these groupings are accurate, the sequences in each group should have similar lengths.  \n",
    "\n",
    "**From Bull et al. (2007) (Figure 1A-E):** <br>\n",
    "\n",
    "<img src=\"paper_figs/bull_2007_cyspolv.jpg\">\n",
    "\n",
    "<font size=\"1\"> The cysteine/PoLV classification approach. (A) Sequence features extracted from DBL1α sequence tags. The input sequence is the DBL1α sequence starting from a DIGDI motif within homology block D and ending in PQFLR motif within homology block H (see Ref. [20]). Three features are used to group the sequences. These are (1) the PoLV1 motif situated at the 3′ end of homology block H (defined as the four amino acids starting 10 amino acids 3′ to the beginning of the DIGDI consensus), (2) the PoLV2 motif situated at the 5′ end of homology block F (defined as the four amino acids starting four amino acids 5′ to anchor point b or 12 amino acids 5′ to anchor point c, anchor points are marked with arrows), and (3) a count of the number of cysteine residues within the sequence. Two conserved internal anchor motifs “WW” and “VW” (anchor points b and c, respectively) were used to identify homology block F. The “WW” motif was confirmed to be present no more than once within all DBL1α sequence tags analysed. In sequences where the “WW” motif is absent due to sequencing or PCR errors the “VW” motif (anchor point c) is used as a backup. Groups were defined as described previously [9] (see box (*) any amino acid). The “distinct sequence identifier” DSID is defined as “PoLV1-PoLV2-PoLV3-number of cysteine residues in the sequence-PoLV4-sequence length”. (B–E) Length comparisons of sequences from different groups of sequence tags. The lengths of the sequence tags classified into different groups were compared between 10 studies. The studies were classified into four groups (a) Kenyan sequences from Kilifi, (b) non-Kenyan African sequences, (c) Asia Pacific sequences, and (d) South American sequences. The dotted line is placed to aid comparisons of sequence lengths (set at 120 amino acids). To avoid inclusion of the same sequence twice with minor differences due to PCR or sequencing errors, only “distinct” sequences were used from each of the 10 studies (i.e., only one sequence was included for each DSID counted within each individual study, see A). The number of distinct sequences are as follows: (a) Kenyan sequences: 606 sequences from Kilifi Kenya [9], (b) Other African sequences: 108 from Malawi (Montgomery, unpublished), 124 sequences from Mali [10], (c) Asia Pacific sequences: 162 from Papua New Guinea [7,17], 70 from The Solomon Islands [7], 53 from The Philippines [7], and (d) South American sequences: 49 from Venezuela [8], 148 from Brazil [6,18]. Example P values in comparisons of sequence length between groups are shown (Mann–Whitney U-test performed using Stata, Stata Corp, Texas, USA). </font>"
   ]
  },
  {
   "cell_type": "markdown",
   "metadata": {},
   "source": [
    "#### Let's try to reproduce these results..."
   ]
  },
  {
   "cell_type": "code",
   "execution_count": 4,
   "metadata": {},
   "outputs": [],
   "source": [
    "# Import statements #\n",
    "import os\n",
    "import re\n",
    "import csv \n",
    "import json as js\n",
    "import itertools\n",
    "import numpy as np\n",
    "import pandas as pd\n",
    "from ggplot import *\n",
    "import pylab as plt2\n",
    "from Bio import SeqIO\n",
    "import seaborn as sns\n",
    "import networkx as nx\n",
    "import matplotlib as mpl\n",
    "import plotly.plotly as py\n",
    "import matplotlib.pyplot as plt\n",
    "from Bio.Alphabet import IUPAC\n",
    "from sklearn import metrics\n",
    "from sklearn.datasets import make_classification\n",
    "from sklearn.linear_model import LogisticRegression"
   ]
  },
  {
   "cell_type": "code",
   "execution_count": 5,
   "metadata": {
    "collapsed": true
   },
   "outputs": [],
   "source": [
    "# FASTA file of 1548 Dbla sequences\n",
    "base_path = \"paper_datasets\"\n",
    "f = \"1548_tags.fa\"\n",
    "filename = os.path.join(base_path, f)"
   ]
  },
  {
   "cell_type": "markdown",
   "metadata": {},
   "source": [
    "First, we group sequences based on number of cysteines or \"C\"s present. <br>\n",
    "\n",
    "- Use BioPython library to read & parse fasta file. \n",
    "- Initialize empty lists to store sequences with the appropriate number of cysteines.\n",
    "    - Note that the list <b>cys5_records</b> stores sequences with 5 or more cysteines.\n",
    "- Loop over each sequence to count the number of \"C\"s.\n",
    "- Based on count of \"C\"s, add to the appropriate list."
   ]
  },
  {
   "cell_type": "code",
   "execution_count": 3,
   "metadata": {
    "collapsed": true
   },
   "outputs": [],
   "source": [
    "# Initialize empty lists to store sequences & id/names\n",
    "cys1_records = []\n",
    "cys2_records = []\n",
    "cys3_records = []\n",
    "cys4_records = []\n",
    "cys5_records = []\n",
    "all_seqs = []\n",
    "record_ids = []\n",
    "\n",
    "# Loop over each sequence in file\n",
    "for seq_record in SeqIO.parse(filename, \"fasta\"):\n",
    "    \n",
    "    # Append seq to list\n",
    "    all_seqs.append(str(seq_record.seq))\n",
    "    \n",
    "    # Append id to list \n",
    "    record_ids.append(seq_record.id)\n",
    "    \n",
    "    # Loop over each sequence's letters, count occurences of \"C\"\n",
    "    # If 1 \"C\", add record to 'cys1_records' and so on\n",
    "    c_count = 0\n",
    "    for aa in seq_record.seq:\n",
    "        if aa == \"C\":\n",
    "            c_count += 1\n",
    "\n",
    "    # Add seq_record to appropriate records list\n",
    "    if c_count == 1:\n",
    "        cys1_records.append(seq_record)\n",
    "    elif c_count == 2:\n",
    "        cys2_records.append(seq_record)\n",
    "    elif c_count == 3:\n",
    "        cys3_records.append(seq_record)\n",
    "    elif c_count == 4:\n",
    "        cys4_records.append(seq_record)\n",
    "    elif c_count >= 5:\n",
    "        cys5_records.append(seq_record)\n",
    "    else:\n",
    "        cys5_records.append(seq_record)"
   ]
  },
  {
   "cell_type": "markdown",
   "metadata": {},
   "source": [
    "Print 5 sample sequences from groups cys2 and cys4. This is in BioPython format, with sequence ID/name, number of features (0 for all), and the sequence truncated to fit on screen."
   ]
  },
  {
   "cell_type": "code",
   "execution_count": 6,
   "metadata": {},
   "outputs": [
    {
     "name": "stdout",
     "output_type": "stream",
     "text": [
      "\n",
      "\n",
      "===========CYS2 SEQUENCES:=========== \n",
      "\n",
      "ID: 001\n",
      "Name: 001\n",
      "Description: 001\n",
      "Number of features: 0\n",
      "Seq('DIADIIRGKDLYLGDQERKQHLEKRLETMFEKIQKNNNNKLSNLSTKEVREYWW...FFR', SingleLetterAlphabet())\n",
      "\n",
      "\n",
      "ID: 002\n",
      "Name: 002\n",
      "Description: 002\n",
      "Number of features: 0\n",
      "Seq('DIGDIIGGKDLYLDHEQGYNRLEARLKTIFQNIQNKNKSPLDKLSLDKFREYWW...FLR', SingleLetterAlphabet())\n",
      "\n",
      "\n",
      "ID: 005\n",
      "Name: 005\n",
      "Description: 005\n",
      "Number of features: 0\n",
      "Seq('DIGDIIRGIDMFKPNVHDKVEKGLREVFKKIHDLNKSKINDYDGDGPEYYKLRE...YLR', SingleLetterAlphabet())\n",
      "\n",
      "\n",
      "ID: 020\n",
      "Name: 020\n",
      "Description: 020\n",
      "Number of features: 0\n",
      "Seq('DIGDIIRGKDLFIGYNEKDKEEKKQLQDNLKDIFKKIHNNLQDTEAQERYNGDG...YLR', SingleLetterAlphabet())\n",
      "\n",
      "\n",
      "ID: 026\n",
      "Name: 026\n",
      "Description: 026\n",
      "Number of features: 0\n",
      "Seq('DIGDIIRGKDLFIGYNEKDRNEKKQLQDSLKKIFGKIYNELTNGRNGVKEHYKD...YLR', SingleLetterAlphabet())\n",
      "\n",
      "\n",
      ".\n",
      ".\n",
      ".\n",
      "\n",
      "\n",
      "\n",
      "\n",
      "\n",
      "===========CYS4 SEQUENCES:=========== \n",
      "\n",
      "ID: 003\n",
      "Name: 003\n",
      "Description: 003\n",
      "Number of features: 0\n",
      "Seq('DIGDIIRAKDLFIGYNQKDQNEKQKLQDSLKNIFGKIYEELSESAKEHYKKDKK...YLR', SingleLetterAlphabet())\n",
      "\n",
      "\n",
      "ID: 006\n",
      "Name: 006\n",
      "Description: 006\n",
      "Number of features: 0\n",
      "Seq('DIGDIIRGKDLFIGNNKRDKLEKQLKKYFNNIYEQLVKKDEEGAETHYEGDEAN...YLR', SingleLetterAlphabet())\n",
      "\n",
      "\n",
      "ID: 007\n",
      "Name: 007\n",
      "Description: 007\n",
      "Number of features: 0\n",
      "Seq('DIGDIIRGKDLFIGNNKRDKLEKQLQKYFQKIYDKLKDKEGAKERYKDTANYYE...YLR', SingleLetterAlphabet())\n",
      "\n",
      "\n",
      "ID: 008\n",
      "Name: 008\n",
      "Description: 008\n",
      "Number of features: 0\n",
      "Seq('DIGDIIRGKDLFIGYDEKDRNEKKQLQQNLKKIFGKIHEDVTSGSNAEAAKARY...YLR', SingleLetterAlphabet())\n",
      "\n",
      "\n",
      "ID: 009\n",
      "Name: 009\n",
      "Description: 009\n",
      "Number of features: 0\n",
      "Seq('DIGDIIRGKDLFIGYDEKEKDRRRKLEEKLQKIFGNIYNDLTKKKGRNGQIEAR...YLR', SingleLetterAlphabet())\n",
      "\n",
      "\n",
      ".\n",
      ".\n",
      ".\n",
      "\n",
      "\n",
      "\n"
     ]
    }
   ],
   "source": [
    "def print_seq(records_list, type_str, amount):\n",
    "    print(\"\\n\")\n",
    "    print(\"===========\" + type_str + \" SEQUENCES:=========== \\n\")\n",
    "    n = len(records_list)\n",
    "    for i in range(0, amount):\n",
    "        print(records_list[i])\n",
    "        print(\"\\n\")\n",
    "    print((\".\" + \"\\n\") * 3)\n",
    "    print(\"\\n\")\n",
    "\n",
    "print_seq(cys2_records, \"CYS2\", 5)\n",
    "print_seq(cys4_records, \"CYS4\", 5)"
   ]
  },
  {
   "cell_type": "markdown",
   "metadata": {},
   "source": [
    "Let's examine how many DBL$\\alpha$ sequences are in each cysX group. Simple bar chart below."
   ]
  },
  {
   "cell_type": "code",
   "execution_count": 11,
   "metadata": {},
   "outputs": [
    {
     "data": {
      "image/png": "[encoded data removed]",
      "text/plain": [
       "<matplotlib.figure.Figure at 0x1182faac8>"
      ]
     },
     "metadata": {},
     "output_type": "display_data"
    }
   ],
   "source": [
    "# Plot (x = cysX groups, y = number of sequences in each group)\n",
    "x = list(range(1,6))\n",
    "x_labels = [\"cys1\", \"cys2\", \"cys3\", \"cys4\", \"cys5\"]\n",
    "y = [len(cys1_records), len(cys2_records), len(cys3_records),\n",
    "     len(cys4_records), len(cys5_records)]\n",
    "\n",
    "font = {'family' : 'DejaVu Sans',\n",
    "        'weight' : 'normal',\n",
    "        'size'   : 10}\n",
    "mpl.rc('font', **font)\n",
    "\n",
    "plt.figure(figsize=(5,4))\n",
    "plt.bar(x, y, align=\"center\", color='#900C3F')\n",
    "plt.xticks(x, x_labels)\n",
    "plt.title('Number of DBLa sequences in cys groups')\n",
    "plt.xlabel('Cys group')\n",
    "plt.ylabel('Number of DBLa sequences')\n",
    "plt.tight_layout()\n",
    "plt.savefig('figures/cys_count.svg', format='svg', dpi=300)\n",
    "plt.show()"
   ]
  },
  {
   "cell_type": "markdown",
   "metadata": {},
   "source": [
    "As seen in the bar chart above, cys2 and cys4 groups have the most DBL$\\alpha$ sequences. This explains the rationale of papers that have used these 2 cys groups as the main groups for cys/poLV classifications. So let's do the same below... <br>\n",
    "\n",
    "Now, we further group the cysX groups into cys/poLV groups based on the following: <br>\n",
    "- Group 1: cys2, poLV1 (MFK*)\n",
    "- Group 2: cys2, poLV2 (*REY)\n",
    "- Group 3: cys2, not in groups 1, 2\n",
    "- Group 4: cys4, not group 5\n",
    "- Group 5: cys4, poLV2 (*REY)\n",
    "- Group 6: cys1, 3, 5, >5\n",
    "\n",
    "Workflow: <br>\n",
    "1. Group <font face=\"Courier\">cys1_records, cys3_records, cys5_records</font> into <font face=\"Courier\">group_6</font>\n",
    "2. Loop through <font face=\"Courier\">cys2_records</font> sequences:\n",
    "    - If find \"MFK\" in sequence, add sequence to group 1\n",
    "    - If find \"REY\" in sequence, add sequence to group 2\n",
    "    - Else (no \"MFK\" and no \"REY\"), add sequence to group 3 <br>\n",
    "    \n",
    "3. Repeat step 2 for <font face=\"Courier\">cys4_records</font> sequences"
   ]
  },
  {
   "cell_type": "code",
   "execution_count": 13,
   "metadata": {
    "collapsed": true
   },
   "outputs": [],
   "source": [
    "\"\"\"\n",
    "1. Group 6 = cys1, 3, 5, >5\n",
    "\"\"\"\n",
    "group_6 = cys1_records + cys3_records + cys5_records\n",
    "\n",
    "######################################################################\n",
    "\n",
    "\"\"\"\n",
    " 2. Group 1: cys2, poLV1 (MFK*)\n",
    "    Group 2: cys2, poLV2 (*REY)\n",
    "    Group 3: cys2, not in groups 1, 2\n",
    "\"\"\"\n",
    "\n",
    "group_1 = []; group_1_id = [];\n",
    "group_2 = []; group_2_id = [];\n",
    "group_3 = []; group_3_id = [];\n",
    "\n",
    "for record in cys2_records:\n",
    "\n",
    "    # search for \"MFK\" in sequence, if found, add to group 1\n",
    "    if \"MFK\" in record.seq:\n",
    "        group_1.append(record)\n",
    "        group_1_id.append(record.id)\n",
    "\n",
    "    # search for \"REY\" in sequence, if found, add to group 2\n",
    "    elif \"REY\" in record.seq:\n",
    "        group_2.append(record)\n",
    "        group_2_id.append(record.id)\n",
    "        \n",
    "    # if neither \"MFK\" nor \"REY\" present, add to group 3\n",
    "    else:\n",
    "        group_3.append(record)\n",
    "        group_3_id.append(record.id)\n",
    "######################################################################\n",
    "\n",
    "\"\"\"\n",
    " 3. Group 4: cys4, not group 5\n",
    "    Group 5: cys4, poLV2 (*REY)\n",
    "\"\"\"\n",
    "group_4 = []; group_4_id = [];\n",
    "group_5 = []; group_5_id = [];\n",
    "\n",
    "for record in cys4_records:\n",
    "    if \"REY\" in record.seq:\n",
    "        group_5.append(record)\n",
    "        group_5_id.append(record.id)\n",
    "\n",
    "    else:\n",
    "        group_4.append(record)\n",
    "        group_4_id.append(record.id)"
   ]
  },
  {
   "cell_type": "markdown",
   "metadata": {},
   "source": [
    "Create a list of cys/polv classifications for all sequences, in the same order as the tags are in the fasta file. Comparing this list \"cyspolv_classif\" to the Cys/PoLV column of \"curated_data_set.csv\" of Githinji & Bull (2017), they are the same and we confirm that the Cys/PoLV classification is reproducible. "
   ]
  },
  {
   "cell_type": "code",
   "execution_count": 14,
   "metadata": {
    "collapsed": true,
    "scrolled": false
   },
   "outputs": [],
   "source": [
    "cyspolv_classif = []\n",
    "\n",
    "for i in range(len(record_ids)):\n",
    "    if record_ids[i] in group_1_id:\n",
    "        cyspolv_classif.append(1)\n",
    "    elif record_ids[i] in group_2_id:\n",
    "        cyspolv_classif.append(2)\n",
    "    elif record_ids[i] in group_3_id:\n",
    "        cyspolv_classif.append(3)\n",
    "    elif record_ids[i] in group_4_id:\n",
    "        cyspolv_classif.append(4)\n",
    "    elif record_ids[i] in group_5_id:\n",
    "        cyspolv_classif.append(5)\n",
    "    else: \n",
    "        cyspolv_classif.append(6)"
   ]
  },
  {
   "cell_type": "markdown",
   "metadata": {},
   "source": [
    "Some example sequences from each cys/poLV group. All sequences in dataset begin with \"DIGDI\" in maroon. \"MFK\" and \"REY\" motifs are highlighted blue. <br>\n",
    "\n",
    "**An issue:** Sequence 1 from group 1 has both \"MFK\" and \"REY.\" Aren't they mutually exclusive? Are the rest of dataset ok? <br>\n",
    "\n",
    "**Things to consider:** Must we take into account the varying lengths of the sequences? "
   ]
  },
  {
   "cell_type": "code",
   "execution_count": 15,
   "metadata": {},
   "outputs": [
    {
     "name": "stdout",
     "output_type": "stream",
     "text": [
      "\n",
      "SAMPLE SEQUENCES FROM 6 CYSTEINE/POLV GROUPS: \n",
      "\n",
      "GROUP 1: cys2, poLV1 (MFK*)\n",
      "\u001b[5;91mDIGDI\u001b[mIRGKDLFLGHNQRKKKLEKRLEQ\u001b[44mMFK\u001b[mNIKKNNDELDKISIERVREYWWALNRQDVWKAITCRAGDTDEYFTKSSDGLYVFSNGPCGRDETDVPTNLDYVPQFLR\n",
      "\n",
      "GROUP 2: cys2, poLV2 (*REY)\n",
      "\u001b[5;91mDIGDI\u001b[mIGGKDLYLDHEQGYNRLEARLKTIFQNIQNKNKSPLDKLSLDKF\u001b[44mREY\u001b[mWWALNRVQVWKAITCKAEVDDIYSKTANGNTTLWNYNCGHHVNQDVPANLDYVPQFLR\n",
      "\n",
      "GROUP 3: cys2, not in groups 1, 2\n",
      "\u001b[5;91mDIGDI\u001b[mIRGKDLFIGYNEKDRNEKKQLQDSLKKIFGKIYNELTNGRNGVKEHYKDEDDNEGNYFQLREDWWNANRKEVWKAITCKADENDRYSANIEHDRTGVSHGRCGHRDENVPTYLDYVPQYLR\n",
      "\n",
      "GROUP 4: cys4, not group 5\n",
      "\u001b[5;91mDIGDI\u001b[mIRGKDLFIGNNKRDKLEKQLKKYFNNIYEQLVKKDEEGAETHYEGDEANNFFQLREDWWNANRQEIWKAITCDDRLGGNAYFRRTCGGNEKNSTLAKDKCRCKDENGKPNDQVPTYFDYVPQYLR\n",
      "\n",
      "GROUP 5: cys4, poLV2 (*REY)\n",
      "\u001b[5;91mDIGDI\u001b[mIRGKDLFLGHKQRKIQLEERLKTMFENIQENNYSTLKTLSIDAV\u001b[44mREY\u001b[mWWALNRDQVWNAITCKAPDNAKYFRGTCGGDARKPSLTQNNCRCKGDQVPTYFDYVPQYPR\n",
      "\n",
      "GROUP 6: cys1, 3, 5, >5\n",
      "\u001b[5;91mDIGDI\u001b[mVRGRDMFKPNEEDAVQKGLRAVFKKIHDKLKQPEKDYYNADEKGNYYKLRDAWWTVNRNQVWEAITYKAPRKADYFRNISKRIRGFTDIGKCGHNKGSVPTYLDYVPQFLR\n",
      "\n"
     ]
    }
   ],
   "source": [
    "# Example sequences from each group:\n",
    "print(\"\\nSAMPLE SEQUENCES FROM 6 CYSTEINE/POLV GROUPS: \\n\")\n",
    "\n",
    "print(\"GROUP 1: cys2, poLV1 (MFK*)\")\n",
    "print(str(group_1[1].seq).replace(\"MFK\", '\\033[44m{}\\033[m'.format(\"MFK\")).replace(\"DIGDI\", '\\033[5;91m{}\\033[m'.format(\"DIGDI\")) + \"\\n\")\n",
    "\n",
    "print(\"GROUP 2: cys2, poLV2 (*REY)\")\n",
    "print(str(group_2[1].seq).replace(\"REY\", '\\033[44m{}\\033[m'.format(\"REY\")).replace(\"DIGDI\", '\\033[5;91m{}\\033[m'.format(\"DIGDI\")) + \"\\n\")\n",
    "\n",
    "print(\"GROUP 3: cys2, not in groups 1, 2\")\n",
    "print(str(group_3[1].seq).replace(\"DIGDI\", '\\033[5;91m{}\\033[m'.format(\"DIGDI\")) + \"\\n\")\n",
    "\n",
    "print(\"GROUP 4: cys4, not group 5\")\n",
    "print(str(group_4[1].seq).replace(\"DIGDI\", '\\033[5;91m{}\\033[m'.format(\"DIGDI\")) + \"\\n\")\n",
    "\n",
    "print(\"GROUP 5: cys4, poLV2 (*REY)\")\n",
    "print(str(group_5[1].seq).replace(\"REY\", '\\033[44m{}\\033[m'.format(\"REY\")).replace(\"DIGDI\", '\\033[5;91m{}\\033[m'.format(\"DIGDI\")) + \"\\n\")\n",
    "\n",
    "print(\"GROUP 6: cys1, 3, 5, >5\")\n",
    "print(str(group_6[1].seq).replace(\"DIGDI\", '\\033[5;91m{}\\033[m'.format(\"DIGDI\")) + \"\\n\")\n"
   ]
  },
  {
   "cell_type": "markdown",
   "metadata": {},
   "source": [
    "To test the Bull et al., 2007 hypothesis that sequences in the same cys/poLV group have similar sequence lengths, let's create a dataframe containing the group names and the lengths of the sequences within each group. Below, a swarm plot to visualize distribution of sequence lengths among groups:"
   ]
  },
  {
   "cell_type": "code",
   "execution_count": 16,
   "metadata": {},
   "outputs": [
    {
     "data": {
      "image/png": "[encoded data removed]",
      "text/plain": [
       "<matplotlib.figure.Figure at 0x117d8a978>"
      ]
     },
     "metadata": {},
     "output_type": "display_data"
    }
   ],
   "source": [
    "# Concatenate all groups into 1 list\n",
    "all_groups = [group_1, group_2, group_3, group_4, group_5, group_6]\n",
    "\n",
    "# Create dataframe for seaborn plot\n",
    "group_values = []\n",
    "for group_i, group in enumerate(all_groups):\n",
    "    sequence_lengths = []\n",
    "    for sequence in group:\n",
    "        seq_length = len(sequence)\n",
    "        sequence_lengths.append(seq_length)\n",
    "\n",
    "    group_values.append(np.array(sequence_lengths))\n",
    "\n",
    "group_values = np.array(group_values)\n",
    "group_ids = [\"Group {}\".format(i+1) for i in range(len(all_groups))]\n",
    "\n",
    "data_x = []\n",
    "for i, group_id in enumerate(group_ids):\n",
    "    group_i = group_values[i]\n",
    "    for datum in group_i:\n",
    "        data_point = [datum, group_id]\n",
    "        data_x.append(data_point)\n",
    "\n",
    "df = pd.DataFrame(data=data_x, columns=[\"Length\", \"Groups\"])\n",
    "\n",
    "# Plotting time\n",
    "plt.figure(figsize=(7,5))\n",
    "sns.color_palette(\"Set2\", 6)\n",
    "g = sns.swarmplot(x=\"Groups\", y=\"Length\", data=df).set_title(\"Lengths of sequences in different cys/PoLV groups\")\n",
    "sns.despine()\n",
    "plt.tight_layout()\n",
    "plt.savefig('figures/cp_length.svg', format='svg', dpi=300)\n",
    "plt.show()"
   ]
  },
  {
   "cell_type": "markdown",
   "metadata": {},
   "source": [
    "This global plot (for all tag sequences in dataset) is similar to the Bull et al. (2007) Figure 1(B-E)!"
   ]
  },
  {
   "cell_type": "markdown",
   "metadata": {},
   "source": [
    "### ◼ Approach #2 Classification of DBL$\\alpha$ sequence: Block-sharing groups & networks"
   ]
  },
  {
   "cell_type": "markdown",
   "metadata": {},
   "source": [
    "**Dataset:** Same as #1\n",
    "\n",
    "**Source:** Same as #1\n",
    "\n",
    "**Method described in:** Githinji & Bull (2017) & Bull PC, Buckee CO, Kyes S, et al. (2008): <i>Plasmodium falciparum antigenic variation. Mapping mosaic var gene sequences onto a network of shared, highly polymorphic sequence blocks.</i> Mol Microbiol. 2008; 68(6): 1519–1534.\n",
    "\n",
    "**The idea:** Sequence mosaicism within var gene sequences can easily be recognized through visual inspection of sequences. Blocks of sequence are frequently shared between two otherwise dissimilar sequences within regions of the sequence that are normally highly polymorphic. <br>\n",
    "\n",
    "Consider: DBL$\\alpha$ sequence tags are highly variable in length. <br>\n",
    "\n",
    "Standard approaches: Alignment of sequences by introducing gaps (Fig. 1A). Issue: Possible inaccurate alignment. <br>\n",
    "\n",
    "Githinji & Bull's proposal: Restrict analysis to ungapped polymorphic sequence blocks at locations within var sequence tags that were fixed relative to one of three conserved anchor points, one at each end and one in the middle (highlighted with a black background in Fig. 1B). This provides 4 window positions. Using only sequence within these windows we then simply asked whether two sequences were identical within any one of the sequence blocks. This treats each sequence as multiple independent blocks of sequence each acting as genetic markers for the sequence to which they are anchored. Each sequence block is a ‘position specific polymorphic block’ (PSPB). The PSPBs are used to construct networks in which sequences are represented by nodes (vertices) that are joined by lines (edges) if they are identical at one or more of their constituent PSPBs (each is 10-aa long). <br>\n",
    "\n",
    "After we have the block-sharing network, block-sharing groups (primarily 1 & 2) are identified by observing the sharing of 14-aa blocks within DBLa tags from parasites from Kenyan children to find the 2 largest components: block-sharing group 1 (BS1) and 2 (BS2). \n",
    "\n",
    "**From Bull et al. (2008) (Figure 1A-B): Finding PSPBs within sequences** <br>\n",
    "\n",
    "<img src=\"paper_figs/bull_2008_bs.jpg\">\n",
    "\n",
    "<font size=\"1\">The rationale for the approach. A and B. A Clustal alignment of four var sequences from 3D7 genome. Comparison of genes would normally be based on an alignment of the regions that are most shared between different sequences. The alternative used here (B) is to align polymorphic blocks of sequence (orange) to fixed reference points that are known to be invariant (black shaded sequence). For this, alignment of some conserved residues (one example is highlighted in blue) takes lower priority than alignment with respect to the chosen anchor points. These ‘position specific polymorphic blocks’ (PSPBs) are defined at up to four positions, PSPBs1–4. The default start positions (positions closest to the anchor point) are shown with vertical arrows. We chose default positions for the PSPBs that were adjacent to, but did not overlap with previously defined ‘positions of limited variability’ (PoLV1-4) marked 1, 2, 3 and 4 respectively (Bull et al., 2005; 2007).</font>\n",
    "\n",
    "\n",
    "**From Githinji & Bull (2017) (Figure 4): Block-sharing networks and analyses of tags via various classifications** <br>\n",
    "\n",
    "<img src=\"paper_figs/githinji_2017_networks.jpg\">\n",
    "\n",
    "<font size=\"1\">Network analysis of DBLα tag sequences collected from Kilifi (Bull et al., 2008), 6 laboratory isolates (Rask et al.,2010) and Tanzanian (Lavstsen et al., 2012). The analysis builds on that described in (Bull et al., 2008). (a) Cys/polv analysis for all sequences; (b) block sharing groups analysis for all sequences; (c) Cys/polv analysis for full length var gene sequences from 6 laboratory isolates; (d) block sharing groups analysis for full length var gene sequences from 6 laboratory isolates; (e) ups grouping for full length\n",
    "var gene sequences from 6 laboratory isolates; (f) domain cassette (DC) classification for DC4, DC5, DC8 and DC13 for full length var gene sequences from 6 laboratory isolates; (g) predicted EPCR-binding phenotype due to CIDRα1.1, CIDRα1.4, CIDRα1.5, CIDRα1.6, CIDRα1.7 or CIDRα1.8 (Lau et al., 2015) for sequences with CIDRα information available; (h) predicted CD36-binding phenotype due to CIDRα2, CIDRα3, CIDRα4, CIDRα5 (Robinson et al., 2003) for sequences with CIDRα information available. Colours of vertices match those defined in Figure 1: a and c) brown = cys/polv group 1 (CP1), red= CP2, yellow = CP3, blue = CP4, light-blue = CP5, grey = CP6; b and d) pink = block sharing group 1 (BS1), black = BS2, white = not a member of a block sharing group; e) orange = upsA, purple = upsB, light green = upsC; f) black = domain cassette 8 (DC8), red = DC5, pink = DC13, yellow = DC4; g) black = predicted EPCR binding; h) black</font>"
   ]
  },
  {
   "cell_type": "markdown",
   "metadata": {},
   "source": [
    "#### First, let's find the PSPBs in all 1548 tag sequences:\n",
    "Before making the block-sharing network to group together sequences that have the same 10-aa blocks, we create the blocks based on Bull et al. (2008): <br>\n",
    "1. Identify 3 fixed reference points (blacked-shaded in Bull (2008) figure 1B) at the 2 ends and in the middle: D, WW (or W followed by another amino acid), and R.\n",
    "2. Extract 4 blocks of amino acids from the windows defined by the 3 reference points. Default positions for the PSPBs are: \n",
    "    - the 5' aa of PSPB1 is set 15 aa from the 5' of the tag region\n",
    "    - the 3' end of PSPB2 is set 5 aa from 5' to the central WW motif\n",
    "    - the 5' end of PSPB3 is set 13 aa 3' to the central WW motif\n",
    "    - the 3' end of PSPB4 is set 13 aa from the 5' end of the tag region \n",
    "    \n",
    "Then we generate a csv file (\"PSPB_10aa.csv\") to hold info of the sequences: the node (index from 0-1547 for 1548 sequences/nodes total), tag # (aka seq_record.id), PSPB1, PSPB2, PSPB3, PSPB4, dbla sequence. This csv file is in the same format as the \"mmi0068-1519-SD30.xls\" file from Bull et al. (2008), which have less sequences but should be identical to \"PSPB_10aa.csv\" otherwise."
   ]
  },
  {
   "cell_type": "code",
   "execution_count": 17,
   "metadata": {
    "collapsed": true
   },
   "outputs": [],
   "source": [
    "# Initialize ordered lists to be written to \"PSPB_10aa.csv\"\n",
    "nodes = [x for x in range(0,1549)]\n",
    "tags = [] \n",
    "PSPB1_list = []\n",
    "PSPB2_list = []\n",
    "PSPB3_list = []\n",
    "PSPB4_list = []\n",
    "dbla_seq = []"
   ]
  },
  {
   "cell_type": "code",
   "execution_count": 18,
   "metadata": {
    "collapsed": true
   },
   "outputs": [],
   "source": [
    "# The 3 fixed reference points for all sequences:\n",
    "ref1 = \"D\"\n",
    "# ref2 = \"WW\" Not used because this could vary, always starts with W but may be followed by various aa's\n",
    "ref3 = \"R\"\n",
    "\n",
    "# Find ref points in each seq, extract 4 PSPBs, add to lists\n",
    "for seq_record in SeqIO.parse(filename, \"fasta\"):\n",
    "    \n",
    "    # Turn seq in Biopython format to string\n",
    "    seq_record.seq = str(seq_record.seq)\n",
    "    \n",
    "    ### 1. Get positions of the 3 reference points in each sequence ###\n",
    "    \n",
    "    # Ref1: Index should be 0 for all ref1\n",
    "    d_index = seq_record.seq.find(ref1)    \n",
    "    \n",
    "    # Ref2: Use regex to find [W + any other aa, usually another W]\n",
    "    find_ww = re.search(r\"[W][A-Z]{1}\", seq_record.seq)\n",
    "    ww_indices = find_ww.span() # a tuple, index [o] or [1]\n",
    "    \n",
    "    # Ref3: Should be last index of each sequence\n",
    "    r_index = seq_record.seq.rfind(ref3)    \n",
    "\n",
    "    ### 2. Extract the 4 PSPBs (use negative indexing for 3' direction) ###\n",
    "    PSPB1 = seq_record.seq[(d_index + 14) : (d_index + 14 + 10)]    \n",
    "    PSPB2 = seq_record.seq[(ww_indices[0] - 14) : (ww_indices[0] - 4)]\n",
    "    PSPB3 = seq_record.seq[(ww_indices[1] + 12) : (ww_indices[1] + 12 + 10)]\n",
    "    PSPB4 = seq_record.seq[(r_index - 21) : (r_index - 11)]\n",
    "    \n",
    "    ### 3. Write to csv the info of this single sequence ###\n",
    "    tags.append(seq_record.id)\n",
    "    dbla_seq.append(seq_record.seq)\n",
    "    PSPB1_list.append(PSPB1)\n",
    "    PSPB2_list.append(PSPB2)\n",
    "    PSPB3_list.append(PSPB3)\n",
    "    PSPB4_list.append(PSPB4)"
   ]
  },
  {
   "cell_type": "markdown",
   "metadata": {},
   "source": [
    "Write nodes, tags, PSPBs 1-4, and sequences to \"PSPB_10aa.csv\" file."
   ]
  },
  {
   "cell_type": "code",
   "execution_count": 19,
   "metadata": {
    "collapsed": true
   },
   "outputs": [],
   "source": [
    "rows = zip(nodes, tags, PSPB1_list, PSPB2_list, PSPB3_list, PSPB4_list, dbla_seq)\n",
    "with open('processed_datasets/PSPB_10aa.csv', 'w') as f:\n",
    "    writer = csv.writer(f)\n",
    "    writer.writerow([\"Node\", \"Tag\", \"PSPB1\", \"PSPB2\", \"PSPB3\", \"PSPB4\", \"Dbla Sequence\"])\n",
    "    for row in rows:\n",
    "        writer.writerow(row)"
   ]
  },
  {
   "cell_type": "markdown",
   "metadata": {},
   "source": [
    "#### Now, let's create the block-sharing network structure\n",
    "\n",
    "Find sequences that are identical at at least 1 PSPB. Comprehensive pairwise comparison of sequences is used. Pairs of sequences that match in at least 1 PSPB is an \"edge\" or connection in the network."
   ]
  },
  {
   "cell_type": "code",
   "execution_count": 20,
   "metadata": {
    "collapsed": true
   },
   "outputs": [],
   "source": [
    "# Main data dictionary to write:\n",
    "data = {}"
   ]
  },
  {
   "cell_type": "code",
   "execution_count": 21,
   "metadata": {
    "collapsed": true
   },
   "outputs": [],
   "source": [
    "# Function to merge lists composed of lists\n",
    "def merge_lists(list_of_lists):\n",
    "    new_list = []\n",
    "    for elem in list_of_lists:\n",
    "        new_list += elem        \n",
    "    return new_list"
   ]
  },
  {
   "cell_type": "code",
   "execution_count": 22,
   "metadata": {
    "collapsed": true
   },
   "outputs": [],
   "source": [
    "# Function to create a list of tuples/edges to make network\n",
    "def get_edges(PSPB1_list, PSPB2_list, PSPB3_list, PSPB4_list):\n",
    "    \n",
    "    # Identify sequences (by indices) that share PSPBs:\n",
    "    find = lambda searchList: [[i for i, x in enumerate(searchList) if x == e] for e in searchList]\n",
    "    \n",
    "    matches1 = find(PSPB1_list)\n",
    "    matches2 = find(PSPB2_list)\n",
    "    matches3 = find(PSPB3_list)\n",
    "    matches4 = find(PSPB4_list)\n",
    "    # print(matches1) -> Ex: [[0, 120, 121, 425], [1, 107], [2],...]\n",
    "\n",
    "    # Create list of tuples from the above matchesX lists\n",
    "    edges_1 = []\n",
    "    edges_2 = []\n",
    "    edges_3 = []\n",
    "    edges_4 = []\n",
    "\n",
    "    for node_i in range(0, len(matches1)):\n",
    "        edges1 = list(itertools.combinations(matches1[node_i], 2))\n",
    "        edges2 = list(itertools.combinations(matches2[node_i], 2))\n",
    "        edges3 = list(itertools.combinations(matches3[node_i], 2))\n",
    "        edges4 = list(itertools.combinations(matches4[node_i], 2))\n",
    "\n",
    "        edges_1.append(edges1)\n",
    "        edges_2.append(edges2)\n",
    "        edges_3.append(edges3)\n",
    "        edges_4.append(edges4)\n",
    "    # print(edges_1) -> Ex: [[(0, 120), (0, 121), (0, 425), (120, 121), (120, 425), (121, 425)], [(1, 107)], [], ...]\n",
    "    \n",
    "    \n",
    "    # Merging all 4 list of tuples into a giant list of tuples\n",
    "    merged_edges = list(sorted(set(merge_lists(edges_1) + merge_lists(edges_2) + merge_lists(edges_3) + merge_lists(edges_4))))\n",
    "    \n",
    "    # Map each tuple to where they matched: PSPB1, 2, 3, or 4\n",
    "    # Create dict: key-value -> \"edge\": (tuple), \"pspb_matches\": [pspb matches]\n",
    "    # Use set function to omit duplicate tuples\n",
    "    pspb_matches = [list(set(merge_lists(edges_1))), list(set(merge_lists(edges_2))), list(set(merge_lists(edges_3))), list(set(merge_lists(edges_4)))]\n",
    "    \n",
    "    # A list that holds dictionary of keys \"edge\" and \"pspb_matches\"\n",
    "    edges = []\n",
    "    for merged_edge in merged_edges:\n",
    "        PSPBs = []\n",
    "        for pspb_i, pspb in enumerate(pspb_matches, 1):\n",
    "            if merged_edge in pspb:\n",
    "                PSPBs.append(\"PSBP{}\".format(pspb_i))\n",
    "        edges.append({\"edge\" : merged_edge, \"pspb_matches\" : PSPBs})\n",
    "\n",
    "    return edges"
   ]
  },
  {
   "cell_type": "code",
   "execution_count": 23,
   "metadata": {
    "collapsed": true
   },
   "outputs": [],
   "source": [
    "# Call get_edges function to create list of tuples/edges\n",
    "edges = get_edges(PSPB1_list, PSPB2_list, PSPB3_list, PSPB4_list)"
   ]
  },
  {
   "cell_type": "code",
   "execution_count": 24,
   "metadata": {},
   "outputs": [
    {
     "name": "stdout",
     "output_type": "stream",
     "text": [
      "Example of an element in the list 'edges':\n"
     ]
    },
    {
     "data": {
      "text/plain": [
       "{'edge': (0, 121), 'pspb_matches': ['PSBP1', 'PSBP2', 'PSBP4']}"
      ]
     },
     "execution_count": 24,
     "metadata": {},
     "output_type": "execute_result"
    }
   ],
   "source": [
    "print(\"Example of an element in the list 'edges':\")\n",
    "edges[3]"
   ]
  },
  {
   "cell_type": "code",
   "execution_count": 25,
   "metadata": {
    "collapsed": true
   },
   "outputs": [],
   "source": [
    "# Add the above edge info (\"edges\" list) to main dict, data: \n",
    "data[\"edges_info\"] = edges"
   ]
  },
  {
   "cell_type": "code",
   "execution_count": 26,
   "metadata": {},
   "outputs": [
    {
     "name": "stdout",
     "output_type": "stream",
     "text": [
      "Example of an edge's info in the dict 'data':\n"
     ]
    },
    {
     "data": {
      "text/plain": [
       "{'edge': (3, 744), 'pspb_matches': ['PSBP1', 'PSBP4']}"
      ]
     },
     "execution_count": 26,
     "metadata": {},
     "output_type": "execute_result"
    }
   ],
   "source": [
    "print(\"Example of an edge's info in the dict 'data':\")\n",
    "data[\"edges_info\"][35]"
   ]
  },
  {
   "cell_type": "markdown",
   "metadata": {},
   "source": [
    "#### Finally, we use 14-aa long PSPBs to create the block-sharing group classification and find block-sharing groups 1 & 2"
   ]
  },
  {
   "cell_type": "markdown",
   "metadata": {},
   "source": [
    "Approach:\n",
    "- Find 14-aa PSPBs in tag sequences. The papers did not describe this in detail, but from inference, this is the workflow:\n",
    "    1. Identify 3 fixed reference points (blacked-shaded) at the 2 ends and in the middle: D, WW (or W followed by another amino acid), and R.\n",
    "    2. Extract 4 blocks of amino acids from the windows defined by thr 3 reference points. Default positions for the PSPBs are: \n",
    "        - the 5' aa of PSPB1 is set 15 aa from the 5' of the tag region\n",
    "        - the 3' aa of PSPB1 is set 15 + 14 aa away from the 5' of the tag region\n",
    "        - the 3' end of PSPB2 is set 5 aa from 5' to the central WW motif\n",
    "            - the 5' end of PSPB2 is set 5 + 14 aa away \n",
    "        - the 5' end of PSPB3 is set 13 aa 3' to the central WW motif\n",
    "            - the 3' end of PSPB3 is set 13 + 14 aa away\n",
    "        - the 3' end of PSPB4 is set 13 aa from the 5' end of the tag region \n",
    "        - the 5' end of PSPB4 is set 13 + 14 aa away\n",
    "                \n",
    "- Find sequences that share the blocks. Add info to \"PSPB_14aa.csv.\"\n",
    "- Create network and find the 2 largest components: These are the block-sharing groups 1 & 2 (BS1 & BS2)"
   ]
  },
  {
   "cell_type": "code",
   "execution_count": 27,
   "metadata": {
    "collapsed": true
   },
   "outputs": [],
   "source": [
    "# The 3 fixed reference points for all sequences:\n",
    "ref1 = \"D\"\n",
    "ref3 = \"R\"\n",
    "\n",
    "\n",
    "# Lists to write to csv \"PSPB_14aa.csv\"\n",
    "nodes_14aa = [x for x in range(0,1549)]\n",
    "tags_14aa = [] \n",
    "dbla_seq_14aa = []\n",
    "PSPB1_14aa = []\n",
    "PSPB2_14aa = []\n",
    "PSPB3_14aa = []\n",
    "PSPB4_14aa = []\n",
    "\n",
    "\n",
    "# Find ref points in each seq, extract 4 PSPBs, add to lists\n",
    "for seq_record in SeqIO.parse(filename, \"fasta\"):\n",
    "    \n",
    "    # Turn seq in Biopython format to string\n",
    "    seq_record.seq = str(seq_record.seq)\n",
    "    \n",
    "    ### 1. Get positions of the 3 reference points in each sequence ###\n",
    "    \n",
    "    # Ref1: Index should be 0 for all ref1\n",
    "    d_index = seq_record.seq.find(ref1)    \n",
    "    \n",
    "    # Ref2: Use regex to find [W + any other aa, usually another W]\n",
    "    find_ww = re.search(r\"[W][A-Z]{1}\", seq_record.seq)\n",
    "    ww_indices = find_ww.span() # a tuple, index [o] or [1]\n",
    "    \n",
    "    # Ref3: Should be last index of each sequence\n",
    "    r_index = seq_record.seq.rfind(ref3)    \n",
    "\n",
    "    ### 2. Extract the 4 PSPBs (use negative indexing for 3' direction) ###\n",
    "    PSPB1 = seq_record.seq[(d_index + 14) : (d_index + 14 + 14)]\n",
    "    PSPB2 = seq_record.seq[(ww_indices[0] - 18) : (ww_indices[0] - 4)]\n",
    "    PSPB3 = seq_record.seq[(ww_indices[1] + 12) : (ww_indices[1] + 12 + 14)]\n",
    "    PSPB4 = seq_record.seq[(r_index - 25) : (r_index - 11)]\n",
    "    \n",
    "    ### 3. Write to csv the info of this single sequence ###\n",
    "    tags_14aa.append(seq_record.id)\n",
    "    dbla_seq_14aa.append(seq_record.seq)\n",
    "    PSPB1_14aa.append(PSPB1)\n",
    "    PSPB2_14aa.append(PSPB2)\n",
    "    PSPB3_14aa.append(PSPB3)\n",
    "    PSPB4_14aa.append(PSPB4)"
   ]
  },
  {
   "cell_type": "markdown",
   "metadata": {},
   "source": [
    "Write nodes, tags, PSPBs 1-4, and sequences to \"PSPB_14aa.csv\" file."
   ]
  },
  {
   "cell_type": "code",
   "execution_count": 21,
   "metadata": {
    "collapsed": true
   },
   "outputs": [],
   "source": [
    "rows_14aa = zip(nodes_14aa, tags_14aa, PSPB1_14aa, PSPB2_14aa, PSPB3_14aa, PSPB4_14aa, dbla_seq_14aa)\n",
    "with open('processed_datasets/PSPB_14aa.csv', 'w') as f:\n",
    "    writer = csv.writer(f)\n",
    "    writer.writerow([\"Node\", \"Tag\", \"PSPB1\", \"PSPB2\", \"PSPB3\", \"PSPB4\", \"Dbla Sequence\"])\n",
    "    for row in rows_14aa:\n",
    "        writer.writerow(row)"
   ]
  },
  {
   "cell_type": "markdown",
   "metadata": {},
   "source": [
    "Using block-sharing groups classification of tag sequences in Bull et al. (2008) perl script \"mmi0068-1519-SD3.pl\" to assign sequences to block-sharing groups 1 or 2. Sequences not in either is classified as 0. <br>\n",
    "\n",
    "Note that we extracted the lists of PSPBs from the perl script and converted them to lists of strings. This is all stored in the file \"bs_groups.txt.\""
   ]
  },
  {
   "cell_type": "code",
   "execution_count": 28,
   "metadata": {
    "collapsed": true
   },
   "outputs": [],
   "source": [
    "# Open and obtain the PSPBs\n",
    "with open(\"processed_datasets/bs_groups.txt\") as f:\n",
    "    content = f.readlines()\n",
    "content = [x.strip().replace('[','').replace(']','').split(\",\") for x in content] \n",
    "content.remove([''])\n",
    "\n",
    "# Put file lines into a list\n",
    "content = [x for x in content if x != ['']]"
   ]
  },
  {
   "cell_type": "code",
   "execution_count": 29,
   "metadata": {
    "collapsed": true
   },
   "outputs": [],
   "source": [
    "# These lists hold the PSPBs for BS groups 1 & 2\n",
    "bs1_pspb = merge_lists(content[0:4])\n",
    "bs2_pspb = merge_lists(content[4:])"
   ]
  },
  {
   "cell_type": "code",
   "execution_count": 30,
   "metadata": {
    "collapsed": true
   },
   "outputs": [],
   "source": [
    "# Check if each tag seq has the subseq from BS1 and BS2\n",
    "N = len(all_seqs)\n",
    "bs_list = np.zeros(N)\n",
    "for node_i, sequence in enumerate(all_seqs):\n",
    "    # Check bs1_pspb for match\n",
    "    for subseq_bs1 in bs1_pspb:\n",
    "        if subseq_bs1 in sequence:\n",
    "            bs_list[node_i] = 1\n",
    "\n",
    "    \n",
    "    # Check bs2_pspb for match\n",
    "    for subseq_bs2 in bs2_pspb:\n",
    "        if subseq_bs2 in sequence:\n",
    "            bs_list[node_i] = 2"
   ]
  },
  {
   "cell_type": "code",
   "execution_count": 31,
   "metadata": {
    "collapsed": true
   },
   "outputs": [],
   "source": [
    "'''\n",
    "Compare the above created list \"bs_list\" with the block sharing\n",
    "partition list in \"97ba7a0f-da43-49dd-a01f-2c047a44535f.paj\" file \n",
    "from Githinji. We converted the .paj file to .txt for easy reading \n",
    "into Python. \n",
    "'''\n",
    "\n",
    "found = False\n",
    "real_data_list = []\n",
    "with open(\"processed_datasets/data.txt\", \"r\") as infile:\n",
    "    for line in infile:\n",
    "        # \"HERE HERE\" in the file notes where the BS list begins\n",
    "        if \"HERE HERE\" in line:\n",
    "            found = True\n",
    "        \n",
    "        if \"*Partition\" in line and found:\n",
    "            found = False\n",
    "            \n",
    "        if found:\n",
    "            try:\n",
    "                real_data_list.append(int(line.strip()))\n",
    "            except:\n",
    "                pass\n",
    "    \n",
    "real_data_list = np.array(real_data_list)"
   ]
  },
  {
   "cell_type": "code",
   "execution_count": 32,
   "metadata": {},
   "outputs": [
    {
     "name": "stdout",
     "output_type": "stream",
     "text": [
      "Lists are same: True\n"
     ]
    }
   ],
   "source": [
    "# Are the list we created and the authors' list the same?\n",
    "lists_same = np.array_equal(bs_list, real_data_list)\n",
    "print(\"Lists are same: {}\".format(lists_same))"
   ]
  },
  {
   "cell_type": "markdown",
   "metadata": {},
   "source": [
    "## Figures: Relationships between  DBL$\\alpha$ tags and full <i>var</i> sequences\n",
    "\n",
    "Below are reproduction of the figures in Githinji & Bull (2017) in the same order as the paper. Because we've confirmed above that the cys/poLV and block-sharing classifications were successfully reproduced, for the visualizations below we use the data from Githinji & Bull (2017) file \"curated_data_set.csv\" because it also includes full-length var gene classifications. <br>"
   ]
  },
  {
   "cell_type": "markdown",
   "metadata": {},
   "source": [
    "### ▶ Visualization 1: Bar graphs"
   ]
  },
  {
   "cell_type": "code",
   "execution_count": 33,
   "metadata": {},
   "outputs": [
    {
     "data": {
      "text/html": [
       "<div>\n",
       "<style>\n",
       "    .dataframe thead tr:only-child th {\n",
       "        text-align: right;\n",
       "    }\n",
       "\n",
       "    .dataframe thead th {\n",
       "        text-align: left;\n",
       "    }\n",
       "\n",
       "    .dataframe tbody tr th {\n",
       "        vertical-align: top;\n",
       "    }\n",
       "</style>\n",
       "<table border=\"1\" class=\"dataframe\">\n",
       "  <thead>\n",
       "    <tr style=\"text-align: right;\">\n",
       "      <th></th>\n",
       "      <th>No</th>\n",
       "      <th>Name</th>\n",
       "      <th>HB_219</th>\n",
       "      <th>HB_204</th>\n",
       "      <th>HB_204_219</th>\n",
       "      <th>First_CIDR</th>\n",
       "      <th>CIDRinfo_3</th>\n",
       "      <th>EPCR_3</th>\n",
       "      <th>CD36_3</th>\n",
       "      <th>cys_PoLV_group</th>\n",
       "      <th>...</th>\n",
       "      <th>sample</th>\n",
       "      <th>ups</th>\n",
       "      <th>upsinfo</th>\n",
       "      <th>ups_clu</th>\n",
       "      <th>domain</th>\n",
       "      <th>cassette</th>\n",
       "      <th>DC8,13,4,5</th>\n",
       "      <th>DC8</th>\n",
       "      <th>DBLb</th>\n",
       "      <th>gene_length</th>\n",
       "    </tr>\n",
       "  </thead>\n",
       "  <tbody>\n",
       "    <tr>\n",
       "      <th>0</th>\n",
       "      <td>1275</td>\n",
       "      <td>DD2var47</td>\n",
       "      <td>0</td>\n",
       "      <td>0</td>\n",
       "      <td>0</td>\n",
       "      <td>CIDRa1.1</td>\n",
       "      <td>1</td>\n",
       "      <td>1</td>\n",
       "      <td>0</td>\n",
       "      <td>3</td>\n",
       "      <td>...</td>\n",
       "      <td>3</td>\n",
       "      <td>B</td>\n",
       "      <td>1</td>\n",
       "      <td>2</td>\n",
       "      <td>DBLa2</td>\n",
       "      <td>DC8</td>\n",
       "      <td>1</td>\n",
       "      <td>1</td>\n",
       "      <td>DBLb12</td>\n",
       "      <td>9021</td>\n",
       "    </tr>\n",
       "    <tr>\n",
       "      <th>1</th>\n",
       "      <td>1338</td>\n",
       "      <td>IGHvar19</td>\n",
       "      <td>0</td>\n",
       "      <td>0</td>\n",
       "      <td>0</td>\n",
       "      <td>CIDRa1.1</td>\n",
       "      <td>1</td>\n",
       "      <td>1</td>\n",
       "      <td>0</td>\n",
       "      <td>3</td>\n",
       "      <td>...</td>\n",
       "      <td>7</td>\n",
       "      <td>B</td>\n",
       "      <td>1</td>\n",
       "      <td>2</td>\n",
       "      <td>DBLa2</td>\n",
       "      <td>DC8</td>\n",
       "      <td>1</td>\n",
       "      <td>1</td>\n",
       "      <td>other</td>\n",
       "      <td>9387</td>\n",
       "    </tr>\n",
       "    <tr>\n",
       "      <th>2</th>\n",
       "      <td>1364</td>\n",
       "      <td>IT4var06</td>\n",
       "      <td>0</td>\n",
       "      <td>0</td>\n",
       "      <td>0</td>\n",
       "      <td>CIDRa1.1</td>\n",
       "      <td>1</td>\n",
       "      <td>1</td>\n",
       "      <td>0</td>\n",
       "      <td>4</td>\n",
       "      <td>...</td>\n",
       "      <td>4</td>\n",
       "      <td>B</td>\n",
       "      <td>1</td>\n",
       "      <td>2</td>\n",
       "      <td>DBLa2</td>\n",
       "      <td>DC8</td>\n",
       "      <td>1</td>\n",
       "      <td>1</td>\n",
       "      <td>other</td>\n",
       "      <td>9453</td>\n",
       "    </tr>\n",
       "    <tr>\n",
       "      <th>3</th>\n",
       "      <td>1374</td>\n",
       "      <td>IT4var19</td>\n",
       "      <td>0</td>\n",
       "      <td>0</td>\n",
       "      <td>0</td>\n",
       "      <td>CIDRa1.1</td>\n",
       "      <td>1</td>\n",
       "      <td>1</td>\n",
       "      <td>0</td>\n",
       "      <td>4</td>\n",
       "      <td>...</td>\n",
       "      <td>4</td>\n",
       "      <td>B</td>\n",
       "      <td>1</td>\n",
       "      <td>2</td>\n",
       "      <td>DBLa2</td>\n",
       "      <td>DC8</td>\n",
       "      <td>1</td>\n",
       "      <td>1</td>\n",
       "      <td>DBLb12</td>\n",
       "      <td>10119</td>\n",
       "    </tr>\n",
       "    <tr>\n",
       "      <th>4</th>\n",
       "      <td>1375</td>\n",
       "      <td>IT4var20</td>\n",
       "      <td>0</td>\n",
       "      <td>0</td>\n",
       "      <td>0</td>\n",
       "      <td>CIDRa1.1</td>\n",
       "      <td>1</td>\n",
       "      <td>1</td>\n",
       "      <td>0</td>\n",
       "      <td>3</td>\n",
       "      <td>...</td>\n",
       "      <td>4</td>\n",
       "      <td>B</td>\n",
       "      <td>1</td>\n",
       "      <td>2</td>\n",
       "      <td>DBLa2</td>\n",
       "      <td>DC8</td>\n",
       "      <td>1</td>\n",
       "      <td>1</td>\n",
       "      <td>DBLb12</td>\n",
       "      <td>9021</td>\n",
       "    </tr>\n",
       "  </tbody>\n",
       "</table>\n",
       "<p>5 rows × 27 columns</p>\n",
       "</div>"
      ],
      "text/plain": [
       "     No      Name  HB_219  HB_204  HB_204_219 First_CIDR  CIDRinfo_3  EPCR_3  \\\n",
       "0  1275  DD2var47       0       0           0   CIDRa1.1           1       1   \n",
       "1  1338  IGHvar19       0       0           0   CIDRa1.1           1       1   \n",
       "2  1364  IT4var06       0       0           0   CIDRa1.1           1       1   \n",
       "3  1374  IT4var19       0       0           0   CIDRa1.1           1       1   \n",
       "4  1375  IT4var20       0       0           0   CIDRa1.1           1       1   \n",
       "\n",
       "   CD36_3  cys_PoLV_group     ...      sample  ups  upsinfo  ups_clu domain  \\\n",
       "0       0               3     ...           3    B        1        2  DBLa2   \n",
       "1       0               3     ...           7    B        1        2  DBLa2   \n",
       "2       0               4     ...           4    B        1        2  DBLa2   \n",
       "3       0               4     ...           4    B        1        2  DBLa2   \n",
       "4       0               3     ...           4    B        1        2  DBLa2   \n",
       "\n",
       "   cassette DC8,13,4,5  DC8    DBLb  gene_length  \n",
       "0       DC8          1    1  DBLb12         9021  \n",
       "1       DC8          1    1   other         9387  \n",
       "2       DC8          1    1   other         9453  \n",
       "3       DC8          1    1  DBLb12        10119  \n",
       "4       DC8          1    1  DBLb12         9021  \n",
       "\n",
       "[5 rows x 27 columns]"
      ]
     },
     "execution_count": 33,
     "metadata": {},
     "output_type": "execute_result"
    }
   ],
   "source": [
    "# Read in curated dataset\n",
    "curated_data = pd.read_csv('paper_datasets/curated_data_set.csv')\n",
    "curated_data.head(5)"
   ]
  },
  {
   "cell_type": "code",
   "execution_count": 34,
   "metadata": {
    "collapsed": true
   },
   "outputs": [],
   "source": [
    "# Put all column titles into a list\n",
    "keys = list(curated_data.columns[0:])"
   ]
  },
  {
   "cell_type": "code",
   "execution_count": 35,
   "metadata": {
    "collapsed": true
   },
   "outputs": [],
   "source": [
    "# Turn each column of interest into a list\n",
    "\n",
    "# Initialize lists\n",
    "# general info: \n",
    "No = []; Name = [];  sequence = []; genome = [] \n",
    "# var gene classifs:\n",
    "domain = []; cassette = []; CIDR = [] \n",
    "# var tag classifs:\n",
    "ups = []\n",
    "cys_PoLV_group = []\n",
    "BS_group1 = []; BS_group2 = []\n",
    "HB_219 = []; HB_204 = []\n",
    "\n",
    "# Append to lists \n",
    "for x in range(len(curated_data[\"No\"])):\n",
    "    No.append(curated_data[\"No\"][x])\n",
    "    Name.append(curated_data[\"Name\"][x])\n",
    "    sequence.append(curated_data[\"sequence\"][x])\n",
    "    genome.append(curated_data[\"genome\"][x])\n",
    "    \n",
    "    domain.append(curated_data[\"domain\"][x])\n",
    "    cassette.append(curated_data[\"cassette\"][x])\n",
    "    CIDR.append(curated_data[\"First_CIDR\"][x])\n",
    "    \n",
    "    ups.append(curated_data[\"ups\"][x])\n",
    "    cys_PoLV_group.append(curated_data[\"cys_PoLV_group\"][x])\n",
    "    BS_group1.append(curated_data[\"BS_group1\"][x])\n",
    "    BS_group2.append(curated_data[\"BS_group2\"][x])\n",
    "    HB_219.append(curated_data[\"HB_219\"][x])\n",
    "    HB_204.append(curated_data[\"HB_204\"][x])\n",
    "\n",
    "# Put all lists into one list    \n",
    "combined_lists = No, Name, HB_219, HB_204, cys_PoLV_group, BS_group1, BS_group2, sequence, ups"
   ]
  },
  {
   "cell_type": "code",
   "execution_count": 36,
   "metadata": {
    "collapsed": true
   },
   "outputs": [],
   "source": [
    "# Initialize dicts for var gene classifs\n",
    "dbla_dict = {}; cassette_dict = {}; cidr_dict = {}"
   ]
  },
  {
   "cell_type": "code",
   "execution_count": 37,
   "metadata": {
    "collapsed": true
   },
   "outputs": [],
   "source": [
    "# Find out how many unique items in each list of var gene classifs\n",
    "# Only extract the first 313 sequences with gene classifs info\n",
    "dbla_uniques = list(sorted(set(domain[:313])))\n",
    "cassette_uniques = list(sorted(set(cassette[:313])))\n",
    "CIDR_uniques = list(sorted(set(CIDR[:313])))"
   ]
  },
  {
   "cell_type": "code",
   "execution_count": 38,
   "metadata": {
    "collapsed": true
   },
   "outputs": [],
   "source": [
    "# Append to dicts the classes of each classif\n",
    "for i in dbla_uniques:\n",
    "    dbla_dict[i] = {}\n",
    "for i in cassette_uniques:\n",
    "    cassette_dict[i] = {}\n",
    "for i in CIDR_uniques:\n",
    "    if i != \"missing information\" and i != \"var3\":\n",
    "        cidr_dict[i] = {}\n",
    "    else: continue"
   ]
  },
  {
   "cell_type": "code",
   "execution_count": 39,
   "metadata": {
    "collapsed": true
   },
   "outputs": [],
   "source": [
    "# Function to count instances of each ups class & return proportions\n",
    "def count_ups(ups_list, domain_list, dbla):\n",
    "\n",
    "    count_A = 0; count_B = 0; count_C = 0\n",
    "\n",
    "    for i in range(len(ups_list)):\n",
    "        if domain_list[i] == dbla:\n",
    "            if ups_list[i] == \"A\":\n",
    "                count_A += 1\n",
    "            elif ups_list[i] == \"B\":\n",
    "                count_B += 1\n",
    "            elif ups_list[i] == \"C\":\n",
    "                count_C += 1\n",
    "                \n",
    "    ups_total = count_A + count_B + count_C\n",
    "    ups_props = [count_A/ups_total, count_B/ups_total, count_C/ups_total]\n",
    "    \n",
    "    return ups_props"
   ]
  },
  {
   "cell_type": "code",
   "execution_count": 40,
   "metadata": {
    "collapsed": true
   },
   "outputs": [],
   "source": [
    "# Function to count instances of each cys/polv class & return proportions\n",
    "def count_cp(cp_list, domain_list, dbla):\n",
    "    \n",
    "    count_1 = 0; count_2 = 0; count_3 = 0; count_4 = 0; count_5 = 0; count_6 = 0\n",
    "\n",
    "    for i in range(len(cp_list)):\n",
    "        if domain_list[i] == dbla:\n",
    "            if cp_list[i] == 1:\n",
    "                count_1 += 1\n",
    "            elif cp_list[i] == 2:\n",
    "                count_2 += 1\n",
    "            elif cp_list[i] == 3:\n",
    "                count_3 += 1\n",
    "            elif cp_list[i] == 4:\n",
    "                count_4 += 1\n",
    "            elif cp_list[i] == 5:\n",
    "                count_5 += 1\n",
    "            elif cp_list[i] == 6:\n",
    "                count_6 += 1\n",
    "    \n",
    "    cp = [count_1,count_2,count_3,count_4,count_5,count_6]\n",
    "        \n",
    "    cp_total = count_1 + count_2 + count_3 + count_4 + count_5 + count_6\n",
    "    \n",
    "    cp_props = []\n",
    "    for i in cp:\n",
    "        cp_props.append(i/cp_total)\n",
    "        \n",
    "    return cp_props"
   ]
  },
  {
   "cell_type": "code",
   "execution_count": 41,
   "metadata": {
    "collapsed": true
   },
   "outputs": [],
   "source": [
    "# Function to count instances of each HB class & return proportions\n",
    "def count_hb(hb204_list, hb209_list, domain_list, dbla):\n",
    "    \n",
    "    count_hb204 = 0; count_hb219 = 0; count_all = 0\n",
    "    \n",
    "    for i in range(len(hb204_list)):\n",
    "        if domain_list[i] == dbla:\n",
    "            count_all += 1\n",
    "            if hb204_list[i] == 1:\n",
    "                count_hb204 += 1\n",
    "            elif hb209_list[i] == 1:\n",
    "                count_hb219 += 1\n",
    "                \n",
    "    other = 1 - (count_hb204/count_all + count_hb219/count_all)\n",
    "    hb_props = [count_hb204/count_all, count_hb219/count_all, other]\n",
    "    \n",
    "    return hb_props     "
   ]
  },
  {
   "cell_type": "code",
   "execution_count": 42,
   "metadata": {
    "collapsed": true
   },
   "outputs": [],
   "source": [
    "# Function to count instances of each BS class & return proportions\n",
    "def count_bs(BS_group1, BS_group2, domain_list, dbla):\n",
    "    \n",
    "    count_bs1 = 0; count_bs2 = 0; count_all = 0\n",
    "    \n",
    "    for i in range(len(BS_group1)):\n",
    "        if domain_list[i] == dbla:\n",
    "            count_all += 1\n",
    "            if BS_group1[i] == 1:\n",
    "                count_bs1 += 1\n",
    "            elif BS_group2[i] == 1:\n",
    "                count_bs2 += 1\n",
    "\n",
    "    none = 1 - (count_bs1/count_all + count_bs2/count_all)\n",
    "    bs_props = [count_bs1/count_all, count_bs2/count_all, none]\n",
    "    \n",
    "    return bs_props                        "
   ]
  },
  {
   "cell_type": "markdown",
   "metadata": {},
   "source": [
    "Write to the 3 dicts the proportions of each class of each classification:"
   ]
  },
  {
   "cell_type": "code",
   "execution_count": 43,
   "metadata": {
    "collapsed": true
   },
   "outputs": [],
   "source": [
    "for key in dbla_dict.keys():\n",
    "    dbla_dict[key] = {\n",
    "                    \"ups\":count_ups(ups, domain, key),\n",
    "                    \"cp\":count_cp(cys_PoLV_group, domain, key),\n",
    "                    \"hb\":count_hb(HB_204, HB_219, domain, key),\n",
    "                    \"bs\":count_bs(BS_group1, BS_group2, domain, key)}\n"
   ]
  },
  {
   "cell_type": "code",
   "execution_count": 44,
   "metadata": {
    "collapsed": true
   },
   "outputs": [],
   "source": [
    "for key in cassette_dict.keys():\n",
    "    cassette_dict[key] = {\n",
    "                    \"ups\":count_ups(ups, cassette, key),\n",
    "                    \"cp\":count_cp(cys_PoLV_group, cassette, key),\n",
    "                    \"hb\":count_hb(HB_204, HB_219, cassette, key),\n",
    "                    \"bs\":count_bs(BS_group1, BS_group2, cassette, key)}"
   ]
  },
  {
   "cell_type": "code",
   "execution_count": 45,
   "metadata": {
    "collapsed": true
   },
   "outputs": [],
   "source": [
    "for key in cidr_dict.keys():\n",
    "    cidr_dict[key] = {\n",
    "                    \"ups\":count_ups(ups, CIDR, key),\n",
    "                    \"cp\":count_cp(cys_PoLV_group, CIDR, key),\n",
    "                    \"hb\":count_hb(HB_204, HB_219, CIDR, key),\n",
    "                    \"bs\":count_bs(BS_group1, BS_group2, CIDR, key)}\n"
   ]
  },
  {
   "cell_type": "markdown",
   "metadata": {},
   "source": [
    "Create keys list to match the order of the classes (x-axes) in Githinji & Bull (2017) Figure 1,2,3:"
   ]
  },
  {
   "cell_type": "code",
   "execution_count": 46,
   "metadata": {
    "collapsed": true
   },
   "outputs": [],
   "source": [
    "dbla_keys = [\"DBLa1.1\", \"DBLa1.3\", \"DBLa1.4\", \"DBLa1.5\", \"DBLa1.7\", \"DBLa1.8\",\n",
    "               \"DBLa1.2\", \"DBLa1.6\", \"DBLa0.10\", \"DBLa0.12\", \"DBLa0.13\", \"DBLa0.14\",\n",
    "               \"DBLa0.3\", \"DBLa0.6\", \"DBLa0.7\", \"DBLa2\", \"DBLa0.9\", \"DBLa0.11\", \n",
    "               \"DBLa0.8\", \"DBLa0.5\", \"DBLa0.16\", \"DBLa0.15\", \"DBLa0.2\", \"DBLa0.22\",\n",
    "               \"DBLa0.23\", \"DBLa0.18\", \"DBLa0.1\", \"DBLa0.4\", \"DBLa0.17\", \"DBLa0.20\",\n",
    "               \"DBLa0.21\", \"DBLa0.19\", \"DBLa0.24\"]\n",
    "\n",
    "cassette_keys = [\"DC1\", \"DC11\", \"DC13\", \"DC15\", \"DC3\", \"DC4\", \"DC5\",\n",
    "                 \"DC16\", \"DC12\", \"DC6\", \"DC10\", \"DC14\", \"DC18\",\n",
    "                 \"DC8\", \"DC9\", \"DC17\", \"DC20\", \"DC7\", \"DC0\", \n",
    "                 \"DC19\", \"DC21\", \"DC22\"]\n",
    "\n",
    "cidr_keys = [\"CIDRa1.2\", \"CIDRa1.3\", \"CIDRa1.4\", \"CIDRa1.5\",\n",
    "             \"CIDRb2\", \"CIDRb4\", \"CIDRg3\", \"CIDRd1\", \n",
    "             \"CIDRa1.7\", \"CIDRd2\", \"CIDRa1.6\", \"CIDRa1.1\", \"CIDRa1.8\", \n",
    "             \"CIDRa2.11\", \"CIDRa2.2\", \"CIDRa2.9\", \"CIDRa2.5\", \n",
    "             \"CIDRg7\", \"CIDRa4\", \"CIDRa2.4\", \"CIDRa5\",\n",
    "             \"CIDRa2.7\", \"CIDRa2.8\", \"CIDRa3.4\", \"CIDRa2.6\",\n",
    "             \"CIDRa3.5\", \"CIDRa2.3\", \"CIDRa3.2\", \"CIDRa3.1\",\n",
    "             \"CIDRa6\", \"CIDRa2.1\", \"CIDRa3.3\", \"CIDRa2.10\"]"
   ]
  },
  {
   "cell_type": "code",
   "execution_count": 47,
   "metadata": {
    "collapsed": true
   },
   "outputs": [],
   "source": [
    "# Create ordered lists of gene classifs based on the ordered keys above:\n",
    "dbla_list = []\n",
    "cassette_list = []\n",
    "cidr_list = []\n",
    "\n",
    "for key in dbla_keys:\n",
    "    if key in dbla_dict.keys():\n",
    "        dbla_list.append(dbla_dict[key])\n",
    "for key in cassette_keys:\n",
    "    if key in cassette_dict.keys():\n",
    "        cassette_list.append(cassette_dict[key])\n",
    "for key in cidr_keys:\n",
    "    if key in cidr_dict.keys():\n",
    "        cidr_list.append(cidr_dict[key])"
   ]
  },
  {
   "cell_type": "code",
   "execution_count": 63,
   "metadata": {
    "collapsed": true
   },
   "outputs": [],
   "source": [
    "# Function to make ups bar graph\n",
    "def ups_bar(x_list, orderedkeys_list):\n",
    "    upsA = []; upsB = []; upsC = []\n",
    "    for d in x_list:\n",
    "        upsA.append(d[\"ups\"][0])\n",
    "        upsB.append(d[\"ups\"][1])\n",
    "        upsC.append(d[\"ups\"][2])\n",
    "     \n",
    "    # Make plot\n",
    "    ind = [x for x, _ in enumerate(orderedkeys_list)]\n",
    "\n",
    "    plt.figure(figsize=(25,7))\n",
    "\n",
    "    font = {'family' : 'DejaVu Sans',\n",
    "            'weight' : 'normal',\n",
    "            'size'   : 20}\n",
    "\n",
    "    mpl.rc('font', **font)\n",
    "\n",
    "    plt.bar(ind, upsA, width=0.8, label='ups-A', color='darkorange', bottom=np.array(upsB)+np.array(upsC))\n",
    "    plt.bar(ind, upsB, width=0.8, label='ups-B', color='navy', bottom=upsC)\n",
    "    plt.bar(ind, upsC, width=0.8, label='ups-C', color='forestgreen')\n",
    "\n",
    "    plt.xticks(ind, orderedkeys_list)\n",
    "    plt.legend(loc='upper left', prop={'size':20}, bbox_to_anchor=(1,1), frameon=False, title=\"ups groups\")\n",
    "    plt.tight_layout(pad=7)\n",
    "    plt.ylim=1.0\n",
    "    plt.yticks([0, 0.50, 1.00])\n",
    "\n",
    "\n",
    "    for spine in plt.gca().spines.values():\n",
    "        spine.set_visible(False)\n",
    "\n",
    "    # Rotate axis labels\n",
    "    plt.setp(plt.gca().get_xticklabels(), rotation=90, horizontalalignment='right')\n"
   ]
  },
  {
   "cell_type": "code",
   "execution_count": 65,
   "metadata": {
    "collapsed": true
   },
   "outputs": [],
   "source": [
    "# Function to make ups bar graph\n",
    "def cp_bar(x_list, orderedkeys_list):\n",
    "    \n",
    "    cp1 = []; cp2 = []; cp3 = []; cp4 = []; cp5 = []; cp6 = []; \n",
    "    for d in x_list:\n",
    "        cp1.append(d[\"cp\"][0])\n",
    "        cp2.append(d[\"cp\"][1])\n",
    "        cp3.append(d[\"cp\"][2])\n",
    "        cp4.append(d[\"cp\"][3])\n",
    "        cp5.append(d[\"cp\"][4])\n",
    "        cp6.append(d[\"cp\"][5])\n",
    "     \n",
    "    # Make plot\n",
    "    ind = [x for x, _ in enumerate(orderedkeys_list)]\n",
    "\n",
    "    plt.figure(figsize=(25,7))\n",
    "\n",
    "    font = {'family' : 'DejaVu Sans',\n",
    "            'weight' : 'normal',\n",
    "            'size'   : 20}\n",
    "\n",
    "    mpl.rc('font', **font)\n",
    "\n",
    "    plt.bar(ind, cp1, width=0.8, label='CP1', color='maroon')\n",
    "    plt.bar(ind, cp2, width=0.8, label='CP2', color='orangered', bottom=np.array(cp1))\n",
    "    plt.bar(ind, cp3, width=0.8, label='CP3', color='gold', bottom=np.array(cp1)+np.array(cp2))\n",
    "    plt.bar(ind, cp4, width=0.8, label='CP4', color='navy', bottom=np.array(cp1)+np.array(cp2)+np.array(cp3))\n",
    "    plt.bar(ind, cp5, width=0.8, label='CP5', color='lightskyblue', bottom=np.array(cp1)+np.array(cp2)+np.array(cp3)+np.array(cp4))\n",
    "    plt.bar(ind, cp6, width=0.8, label='CP6', color='gray', bottom=np.array(cp1)+np.array(cp2)+np.array(cp3)+np.array(cp4)+np.array(cp5))\n",
    "\n",
    "    plt.xticks(ind, orderedkeys_list)\n",
    "    plt.legend(loc='upper left', prop={'size':20}, bbox_to_anchor=(1,1), frameon=False, title=\"cp groups\")\n",
    "    plt.tight_layout(pad=7)\n",
    "    plt.ylim=1.0\n",
    "    plt.yticks([0, 0.50, 1.00])\n",
    "\n",
    "\n",
    "    for spine in plt.gca().spines.values():\n",
    "        spine.set_visible(False)\n",
    "\n",
    "    # Rotate axis labels\n",
    "    plt.setp(plt.gca().get_xticklabels(), rotation=90, horizontalalignment='right')\n"
   ]
  },
  {
   "cell_type": "code",
   "execution_count": 66,
   "metadata": {
    "collapsed": true
   },
   "outputs": [],
   "source": [
    "# Function to make ups bar graph\n",
    "def bs_bar(x_list, orderedkeys_list):\n",
    "    bs1 = []; bs2 = []; none = []\n",
    "    for d in x_list:\n",
    "        bs1.append(d[\"bs\"][0])\n",
    "        bs2.append(d[\"bs\"][1])\n",
    "        none.append(d[\"bs\"][2])\n",
    "     \n",
    "    # Make plot\n",
    "    ind = [x for x, _ in enumerate(orderedkeys_list)]\n",
    "\n",
    "    plt.figure(figsize=(25,7))\n",
    "\n",
    "    font = {'family' : 'DejaVu Sans',\n",
    "            'weight' : 'normal',\n",
    "            'size'   : 20}\n",
    "\n",
    "    mpl.rc('font', **font)\n",
    "\n",
    "    plt.bar(ind, bs1, width=0.8, label='BS1', color='mediumvioletred', bottom=np.array(bs2))\n",
    "    plt.bar(ind, bs2, width=0.8, label='BS2', color='k')\n",
    "    plt.bar(ind, none, width=0.8, label='none', color='darkgray', bottom=np.array(bs1)+np.array(bs2))\n",
    "\n",
    "    plt.xticks(ind, orderedkeys_list)\n",
    "    plt.legend(loc='upper left', prop={'size':20}, bbox_to_anchor=(1,1), frameon=False, title=\"bs groups\")\n",
    "    plt.tight_layout(pad=7)\n",
    "    plt.ylim=1.0\n",
    "    plt.yticks([0, 0.50, 1.00])\n",
    "\n",
    "\n",
    "    for spine in plt.gca().spines.values():\n",
    "        spine.set_visible(False)\n",
    "\n",
    "    # Rotate axis labels\n",
    "    plt.setp(plt.gca().get_xticklabels(), rotation=90, horizontalalignment='right')\n"
   ]
  },
  {
   "cell_type": "code",
   "execution_count": 67,
   "metadata": {
    "collapsed": true
   },
   "outputs": [],
   "source": [
    "# Function to make ups bar graph\n",
    "def hb_bar(x_list, orderedkeys_list):\n",
    "    hb204 = []; hb219 = []; other = []\n",
    "    for d in x_list:\n",
    "        hb204.append(d[\"hb\"][0])\n",
    "        hb219.append(d[\"hb\"][1])\n",
    "        other.append(d[\"hb\"][2])\n",
    "     \n",
    "    # Make plot\n",
    "    ind = [x for x, _ in enumerate(orderedkeys_list)]\n",
    "\n",
    "    plt.figure(figsize=(25,7))\n",
    "\n",
    "    font = {'family' : 'DejaVu Sans',\n",
    "            'weight' : 'normal',\n",
    "            'size'   : 20}\n",
    "\n",
    "    mpl.rc('font', **font)\n",
    "\n",
    "    plt.bar(ind, hb204, width=0.8, label='HB204', color='orangered', bottom=np.array(hb219))\n",
    "    plt.bar(ind, hb219, width=0.8, label='HB219', color='navy')\n",
    "    plt.bar(ind, other, width=0.8, label='other', color='darkgray', bottom=np.array(hb204)+np.array(hb219))\n",
    "\n",
    "    plt.xticks(ind, orderedkeys_list)\n",
    "    plt.legend(loc='upper left', prop={'size':20}, bbox_to_anchor=(1,1), frameon=False, title=\"hb groups\")\n",
    "    plt.tight_layout(pad=7)\n",
    "    plt.ylim=1.0\n",
    "    plt.yticks([0, 0.50, 1.00])\n",
    "\n",
    "\n",
    "    for spine in plt.gca().spines.values():\n",
    "        spine.set_visible(False)\n",
    "\n",
    "    # Rotate axis labels\n",
    "    plt.setp(plt.gca().get_xticklabels(), rotation=90, horizontalalignment='right')\n"
   ]
  },
  {
   "cell_type": "code",
   "execution_count": 68,
   "metadata": {},
   "outputs": [
    {
     "data": {
      "image/png": "[encoded data removed]",
      "text/plain": [
       "<matplotlib.figure.Figure at 0x11bad7cf8>"
      ]
     },
     "metadata": {},
     "output_type": "display_data"
    },
    {
     "data": {
      "image/png": "[encoded data removed]",
      "text/plain": [
       "<matplotlib.figure.Figure at 0x11baafe48>"
      ]
     },
     "metadata": {},
     "output_type": "display_data"
    },
    {
     "data": {
      "image/png": "[encoded data removed]",
      "text/plain": [
       "<matplotlib.figure.Figure at 0x11b7e3eb8>"
      ]
     },
     "metadata": {},
     "output_type": "display_data"
    },
    {
     "data": {
      "image/png": "[encoded data removed]",
      "text/plain": [
       "<matplotlib.figure.Figure at 0x11b777f28>"
      ]
     },
     "metadata": {},
     "output_type": "display_data"
    }
   ],
   "source": [
    "ups_bar(dbla_list, dbla_keys); plt.savefig(\"figures/dbla_ups.svg\", format='svg', dpi=300, bbox_inches='tight', pad_inches = 1)\n",
    "cp_bar(dbla_list, dbla_keys); plt.savefig(\"figures/dbla_cp.svg\", format='svg', dpi=300, bbox_inches='tight', pad_inches = 1)\n",
    "bs_bar(dbla_list, dbla_keys); plt.savefig(\"figures/dbla_bs.svg\", format='svg', dpi=300, bbox_inches='tight', pad_inches = 1)\n",
    "hb_bar(dbla_list, dbla_keys); plt.savefig(\"figures/dbla_hb.svg\", format='svg', dpi=300, bbox_inches='tight', pad_inches = 1)\n",
    "plt.show()"
   ]
  },
  {
   "cell_type": "code",
   "execution_count": 69,
   "metadata": {},
   "outputs": [
    {
     "data": {
      "image/png": "[encoded data removed]",
      "text/plain": [
       "<matplotlib.figure.Figure at 0x11b681f98>"
      ]
     },
     "metadata": {},
     "output_type": "display_data"
    },
    {
     "data": {
      "image/png": "[encoded data removed]",
      "text/plain": [
       "<matplotlib.figure.Figure at 0x11b7e45f8>"
      ]
     },
     "metadata": {},
     "output_type": "display_data"
    },
    {
     "data": {
      "image/png": "[encoded data removed]",
      "text/plain": [
       "<matplotlib.figure.Figure at 0x11ba2cfd0>"
      ]
     },
     "metadata": {},
     "output_type": "display_data"
    },
    {
     "data": {
      "image/png": "[encoded data removed]",
      "text/plain": [
       "<matplotlib.figure.Figure at 0x118da8518>"
      ]
     },
     "metadata": {},
     "output_type": "display_data"
    }
   ],
   "source": [
    "ups_bar(cassette_list, cassette_keys); plt.savefig(\"figures/cas_ups.svg\", format='svg', dpi=300, bbox_inches='tight', pad_inches = 1)\n",
    "cp_bar(cassette_list, cassette_keys); plt.savefig(\"figures/cas_cp.svg\", format='svg', dpi=300, bbox_inches='tight', pad_inches = 1)\n",
    "bs_bar(cassette_list, cassette_keys); plt.savefig(\"figures/cas_bs.svg\", format='svg', dpi=300, bbox_inches='tight', pad_inches = 1)\n",
    "hb_bar(cassette_list, cassette_keys); plt.savefig(\"figures/cas_hb.svg\", format='svg', dpi=300, bbox_inches='tight', pad_inches = 1)\n",
    "plt.show()"
   ]
  },
  {
   "cell_type": "code",
   "execution_count": 70,
   "metadata": {},
   "outputs": [
    {
     "data": {
      "image/png": "[encoded data removed]",
      "text/plain": [
       "<matplotlib.figure.Figure at 0x118e43278>"
      ]
     },
     "metadata": {},
     "output_type": "display_data"
    },
    {
     "data": {
      "image/png": "[encoded data removed]",
      "text/plain": [
       "<matplotlib.figure.Figure at 0x1170be400>"
      ]
     },
     "metadata": {},
     "output_type": "display_data"
    },
    {
     "data": {
      "image/png": "[encoded data removed]",
      "text/plain": [
       "<matplotlib.figure.Figure at 0x1182fc160>"
      ]
     },
     "metadata": {},
     "output_type": "display_data"
    },
    {
     "data": {
      "image/png": "[encoded data removed]",
      "text/plain": [
       "<matplotlib.figure.Figure at 0x11ac155c0>"
      ]
     },
     "metadata": {},
     "output_type": "display_data"
    }
   ],
   "source": [
    "ups_bar(cidr_list, cidr_keys); plt.savefig(\"figures/cidr_ups.svg\", format='svg', dpi=300, bbox_inches='tight', pad_inches = 1)\n",
    "cp_bar(cidr_list, cidr_keys); plt.savefig(\"figures/cidr_cp.svg\", format='svg', dpi=300, bbox_inches='tight', pad_inches = 1)\n",
    "bs_bar(cidr_list, cidr_keys); plt.savefig(\"figures/cidr_bs.svg\", format='svg', dpi=300, bbox_inches='tight', pad_inches = 1)\n",
    "hb_bar(cidr_list, cidr_keys); plt.savefig(\"figures/cidr_hb.svg\", format='svg', dpi=300, bbox_inches='tight', pad_inches = 1)\n",
    "plt.show()"
   ]
  },
  {
   "cell_type": "markdown",
   "metadata": {},
   "source": [
    "### ▶ Visualization 2: Networks"
   ]
  },
  {
   "cell_type": "markdown",
   "metadata": {},
   "source": [
    "The block sharing network is partitioned by the cys/poLV group & block-sharing groups implemented above, and also by the classfications other researchers have done: ups, epcr binding, DC8/13/4/5, CD36 (data collected from Githinji, 2017 \"curated_data_set.csv\")."
   ]
  },
  {
   "cell_type": "markdown",
   "metadata": {},
   "source": [
    "#### Get nodes & partition data from file"
   ]
  },
  {
   "cell_type": "code",
   "execution_count": 49,
   "metadata": {},
   "outputs": [
    {
     "data": {
      "text/html": [
       "<div>\n",
       "<style>\n",
       "    .dataframe thead tr:only-child th {\n",
       "        text-align: right;\n",
       "    }\n",
       "\n",
       "    .dataframe thead th {\n",
       "        text-align: left;\n",
       "    }\n",
       "\n",
       "    .dataframe tbody tr th {\n",
       "        vertical-align: top;\n",
       "    }\n",
       "</style>\n",
       "<table border=\"1\" class=\"dataframe\">\n",
       "  <thead>\n",
       "    <tr style=\"text-align: right;\">\n",
       "      <th></th>\n",
       "      <th>Node</th>\n",
       "      <th>Tag</th>\n",
       "      <th>Dbla Sequence</th>\n",
       "      <th>Cys/PoLV group</th>\n",
       "      <th>UPS group</th>\n",
       "      <th>EPCR</th>\n",
       "      <th>DC8,13,4,5</th>\n",
       "      <th>CD36</th>\n",
       "      <th>BS</th>\n",
       "    </tr>\n",
       "  </thead>\n",
       "  <tbody>\n",
       "    <tr>\n",
       "      <th>0</th>\n",
       "      <td>1</td>\n",
       "      <td>1</td>\n",
       "      <td>DIADIIRGKDLYLGDQERKQHLEKRLETMFEKIQKNNNNKLSNLST...</td>\n",
       "      <td>2</td>\n",
       "      <td>0</td>\n",
       "      <td>2</td>\n",
       "      <td>0</td>\n",
       "      <td>0</td>\n",
       "      <td>2</td>\n",
       "    </tr>\n",
       "    <tr>\n",
       "      <th>1</th>\n",
       "      <td>2</td>\n",
       "      <td>2</td>\n",
       "      <td>DIGDIIGGKDLYLDHEQGYNRLEARLKTIFQNIQNKNKSPLDKLSL...</td>\n",
       "      <td>2</td>\n",
       "      <td>0</td>\n",
       "      <td>2</td>\n",
       "      <td>0</td>\n",
       "      <td>0</td>\n",
       "      <td>2</td>\n",
       "    </tr>\n",
       "    <tr>\n",
       "      <th>2</th>\n",
       "      <td>3</td>\n",
       "      <td>3</td>\n",
       "      <td>DIGDIIRAKDLFIGYNQKDQNEKQKLQDSLKNIFGKIYEELSESAK...</td>\n",
       "      <td>4</td>\n",
       "      <td>0</td>\n",
       "      <td>2</td>\n",
       "      <td>0</td>\n",
       "      <td>0</td>\n",
       "      <td>0</td>\n",
       "    </tr>\n",
       "    <tr>\n",
       "      <th>3</th>\n",
       "      <td>4</td>\n",
       "      <td>4</td>\n",
       "      <td>DIGDIIRGEDLYLGYDDEEKKQREQLEENLKKIFKEIYDNLMEDLK...</td>\n",
       "      <td>6</td>\n",
       "      <td>0</td>\n",
       "      <td>2</td>\n",
       "      <td>0</td>\n",
       "      <td>0</td>\n",
       "      <td>0</td>\n",
       "    </tr>\n",
       "    <tr>\n",
       "      <th>4</th>\n",
       "      <td>5</td>\n",
       "      <td>5</td>\n",
       "      <td>DIGDIIRGIDMFKPNVHDKVEKGLREVFKKIHDLNKSKINDYDGDG...</td>\n",
       "      <td>1</td>\n",
       "      <td>0</td>\n",
       "      <td>2</td>\n",
       "      <td>0</td>\n",
       "      <td>0</td>\n",
       "      <td>1</td>\n",
       "    </tr>\n",
       "  </tbody>\n",
       "</table>\n",
       "</div>"
      ],
      "text/plain": [
       "   Node Tag                                      Dbla Sequence  \\\n",
       "0     1   1  DIADIIRGKDLYLGDQERKQHLEKRLETMFEKIQKNNNNKLSNLST...   \n",
       "1     2   2  DIGDIIGGKDLYLDHEQGYNRLEARLKTIFQNIQNKNKSPLDKLSL...   \n",
       "2     3   3  DIGDIIRAKDLFIGYNQKDQNEKQKLQDSLKNIFGKIYEELSESAK...   \n",
       "3     4   4  DIGDIIRGEDLYLGYDDEEKKQREQLEENLKKIFKEIYDNLMEDLK...   \n",
       "4     5   5  DIGDIIRGIDMFKPNVHDKVEKGLREVFKKIHDLNKSKINDYDGDG...   \n",
       "\n",
       "   Cys/PoLV group  UPS group  EPCR  DC8,13,4,5  CD36  BS  \n",
       "0               2          0     2           0     0   2  \n",
       "1               2          0     2           0     0   2  \n",
       "2               4          0     2           0     0   0  \n",
       "3               6          0     2           0     0   0  \n",
       "4               1          0     2           0     0   1  "
      ]
     },
     "execution_count": 49,
     "metadata": {},
     "output_type": "execute_result"
    }
   ],
   "source": [
    "# Read in file that contains the node, tag, seq, and partition groups\n",
    "df = pd.read_csv(\"processed_datasets/processed_data.csv\") \n",
    "df.head(5)"
   ]
  },
  {
   "cell_type": "code",
   "execution_count": 50,
   "metadata": {
    "collapsed": true
   },
   "outputs": [],
   "source": [
    "# Put sequences into list (ordered)\n",
    "sequences_list = df[\"Dbla Sequence\"]"
   ]
  },
  {
   "cell_type": "code",
   "execution_count": 51,
   "metadata": {
    "collapsed": true
   },
   "outputs": [],
   "source": [
    "# Get nodes as number of sequences\n",
    "nodes = range(len(sequences_list))"
   ]
  },
  {
   "cell_type": "code",
   "execution_count": 52,
   "metadata": {
    "collapsed": true
   },
   "outputs": [],
   "source": [
    "# Get network partition types as keys for dict below\n",
    "partition_keys = list(df.columns[3:])"
   ]
  },
  {
   "cell_type": "code",
   "execution_count": 53,
   "metadata": {
    "collapsed": true
   },
   "outputs": [],
   "source": [
    "# Make ordered list of nodes/sequences, each contains a dictionary of partition group info\n",
    "node_info = []\n",
    "for node_i, sequence in enumerate(sequences_list):\n",
    "    \n",
    "    classifications = {partition_type : df[partition_type][node_i] for partition_type in partition_keys}\n",
    "\n",
    "    processed_classifications = {}\n",
    "    \n",
    "    for key, val in classifications.items():\n",
    "        \n",
    "        # For \"nan\" values from csv columns\n",
    "        if type(val) == np.float64:\n",
    "            continue\n",
    "            \n",
    "        processed_classifications[key] = int(val)\n",
    "    \n",
    "    node_info.append({\"sequence\" : sequence, \"classifications\" : processed_classifications})"
   ]
  },
  {
   "cell_type": "code",
   "execution_count": 54,
   "metadata": {
    "scrolled": false
   },
   "outputs": [
    {
     "data": {
      "text/plain": [
       "[{'classifications': {'BS': 2,\n",
       "   'CD36': 0,\n",
       "   'Cys/PoLV group': 2,\n",
       "   'DC8,13,4,5': 0,\n",
       "   'EPCR': 2,\n",
       "   'UPS group': 0},\n",
       "  'sequence': 'DIADIIRGKDLYLGDQERKQHLEKRLETMFEKIQKNNNNKLSNLSTKEVREYWWALNRDQVWKAITCDAGAADEYFKKSGKLEFEFTGGQCGRDGENVPTYLDYVPQFFR'},\n",
       " {'classifications': {'BS': 2,\n",
       "   'CD36': 0,\n",
       "   'Cys/PoLV group': 2,\n",
       "   'DC8,13,4,5': 0,\n",
       "   'EPCR': 2,\n",
       "   'UPS group': 0},\n",
       "  'sequence': 'DIGDIIGGKDLYLDHEQGYNRLEARLKTIFQNIQNKNKSPLDKLSLDKFREYWWALNRVQVWKAITCKAEVDDIYSKTANGNTTLWNYNCGHHVNQDVPANLDYVPQFLR'}]"
      ]
     },
     "execution_count": 54,
     "metadata": {},
     "output_type": "execute_result"
    }
   ],
   "source": [
    "# Example of how list looks: info for first 2 sequences\n",
    "node_info[:2]"
   ]
  },
  {
   "cell_type": "code",
   "execution_count": 55,
   "metadata": {
    "collapsed": true
   },
   "outputs": [],
   "source": [
    "# Append node_info lists to main data dict\n",
    "data[\"node_info\"] = node_info"
   ]
  },
  {
   "cell_type": "code",
   "execution_count": 56,
   "metadata": {},
   "outputs": [
    {
     "data": {
      "text/plain": [
       "{'classifications': {'BS': 2,\n",
       "  'CD36': 0,\n",
       "  'Cys/PoLV group': 2,\n",
       "  'DC8,13,4,5': 0,\n",
       "  'EPCR': 2,\n",
       "  'UPS group': 0},\n",
       " 'sequence': 'DIGDIIGGKDLYLDHEQGYNRLEARLKTIFQNIQNKNKSPLDKLSLDKFREYWWALNRVQVWKAITCKAEVDDIYSKTANGNTTLWNYNCGHHVNQDVPANLDYVPQFLR'}"
      ]
     },
     "execution_count": 56,
     "metadata": {},
     "output_type": "execute_result"
    }
   ],
   "source": [
    "# Example of how to access info for a sequence in the data dict\n",
    "data[\"node_info\"][1]"
   ]
  },
  {
   "cell_type": "code",
   "execution_count": 57,
   "metadata": {},
   "outputs": [
    {
     "data": {
      "text/plain": [
       "dict_keys(['edges_info', 'node_info'])"
      ]
     },
     "execution_count": 57,
     "metadata": {},
     "output_type": "execute_result"
    }
   ],
   "source": [
    "# Now our main data dict has a dict of edge_info & a list of node_info\n",
    "data.keys()"
   ]
  },
  {
   "cell_type": "code",
   "execution_count": 58,
   "metadata": {
    "collapsed": true,
    "scrolled": true
   },
   "outputs": [],
   "source": [
    "# Function to get edges \n",
    "def get_edges(data):\n",
    "    tuple_list = []\n",
    "    for item in data[\"edges_info\"]:\n",
    "        tuple_list.append(tuple(item[\"edge\"]))\n",
    "    return tuple_list  \n",
    "\n",
    "edges_list = get_edges(data)"
   ]
  },
  {
   "cell_type": "code",
   "execution_count": 59,
   "metadata": {
    "collapsed": true
   },
   "outputs": [],
   "source": [
    "# Function to get lists of partition groups \n",
    "def get_partition_list(data, group_name):\n",
    "    key = data[\"node_info\"]\n",
    "    class_list = []\n",
    "    for i in range(len(key)): # node_info key is an ordered list\n",
    "        cl = key[i]['classifications'][group_name]\n",
    "        \n",
    "        \n",
    "        if group_name == \"EPCR\":\n",
    "            if cl == 2:\n",
    "                cl = 0\n",
    "                class_list.append(cl)\n",
    "            else:\n",
    "                class_list.append(cl)\n",
    "            \n",
    "        else: \n",
    "            class_list.append(cl)\n",
    "            \n",
    "    return class_list    \n",
    "\n",
    "\n",
    "partition_ids = ['Cys/PoLV group', 'UPS group', 'EPCR', 'DC8,13,4,5', 'CD36', 'BS']\n",
    "partitions = {partition_id : get_partition_list(data, partition_id) for partition_id in partition_ids}"
   ]
  },
  {
   "cell_type": "code",
   "execution_count": 60,
   "metadata": {
    "collapsed": true
   },
   "outputs": [],
   "source": [
    "# Cys/PoLV & BS lists for full length var genes from 6 lab isolates (node 1236 to the end)\n",
    "zeros = [0] * 1235 \n",
    "cp_full = []\n",
    "cp_full.extend(zeros)\n",
    "cp_full.extend(df[\"Cys/PoLV group\"][1235:])\n",
    "cp_full = [int(i) for i in cp_full]\n",
    "\n",
    "zeros = [0] * 1235 \n",
    "bs_full = []\n",
    "bs_full.extend(zeros)\n",
    "bs_full.extend(df[\"BS\"][1235:])\n",
    "bs_full = [int(i) for i in bs_full]\n",
    "\n",
    "# Add above lists to partitions dict\n",
    "partitions[\"Cys/PoLV full\"] = cp_full\n",
    "partitions[\"BS full\"] = bs_full"
   ]
  },
  {
   "cell_type": "markdown",
   "metadata": {},
   "source": [
    "#### Use the webweb app to create network visuals:"
   ]
  },
  {
   "cell_type": "code",
   "execution_count": 61,
   "metadata": {
    "collapsed": true
   },
   "outputs": [],
   "source": [
    "list_edges = lambda x : [list(i[\"edge\"]) for i in x]"
   ]
  },
  {
   "cell_type": "code",
   "execution_count": 62,
   "metadata": {},
   "outputs": [
    {
     "data": {
      "text/plain": [
       "[[0, 50], [0, 51], [0, 120]]"
      ]
     },
     "execution_count": 62,
     "metadata": {},
     "output_type": "execute_result"
    }
   ],
   "source": [
    "adjList = list_edges(edges)\n",
    "adjList[:3]"
   ]
  },
  {
   "cell_type": "code",
   "execution_count": 63,
   "metadata": {
    "collapsed": true
   },
   "outputs": [],
   "source": [
    "def webweb(adjList, partitions_dict):\n",
    "    from webweb.webweb import webweb\n",
    "    \n",
    "    web = webweb(num_nodes=N)\n",
    "    web.networks.DM.adj = adjList\n",
    "    \n",
    "    \n",
    "    # Set cyspolv partition\n",
    "    web.networks.DM.labels.CysPoLV.type = \"categorical\"\n",
    "    web.networks.DM.labels.CysPoLV.value = partitions_dict[\"Cys/PoLV group\"]\n",
    "    \n",
    "    # Set cyspolv-full partition\n",
    "    web.networks.DM.labels.CysPoLVfull.type = \"categorical\"\n",
    "    web.networks.DM.labels.CysPoLVfull.value = partitions_dict[\"Cys/PoLV full\"]\n",
    "    \n",
    "    # Set bs partition\n",
    "    web.networks.DM.labels.BS.type = \"categorical\"\n",
    "    web.networks.DM.labels.BS.value = partitions_dict[\"BS\"]\n",
    "    \n",
    "    # Set bs-full partition\n",
    "    web.networks.DM.labels.BSfull.type = \"categorical\"\n",
    "    web.networks.DM.labels.BSfull.value = partitions_dict[\"BS full\"]\n",
    "    \n",
    "    # Set ups partition\n",
    "    web.networks.DM.labels.UPS.type = \"categorical\"\n",
    "    web.networks.DM.labels.UPS.value = partitions_dict[\"UPS group\"]\n",
    "    \n",
    "    # Set dc partition\n",
    "    web.networks.DM.labels.DC.type = \"categorical\"\n",
    "    web.networks.DM.labels.DC.value = partitions_dict[\"DC8,13,4,5\"]\n",
    "    \n",
    "    # Set epcr partition\n",
    "    web.networks.DM.labels.EPCR.type = \"categorical\"\n",
    "    web.networks.DM.labels.EPCR.value = partitions_dict[\"EPCR\"]\n",
    "    \n",
    "    # Set cd partition\n",
    "    web.networks.DM.labels.CD.type = \"categorical\"\n",
    "    web.networks.DM.labels.CD.value = partitions_dict[\"CD36\"]\n",
    "\n",
    "    \n",
    "    web.draw()\n"
   ]
  },
  {
   "cell_type": "code",
   "execution_count": 64,
   "metadata": {
    "collapsed": true
   },
   "outputs": [],
   "source": [
    "webweb(adjList, partitions)"
   ]
  },
  {
   "cell_type": "markdown",
   "metadata": {},
   "source": [
    "<b>Block-sharing network structure:</b> based on sequences matching four 10-aa PSPBs. Nodes/vertices that share PSPBs with one another are located in the same region. As seen in Bull, 2008 and Githinji, 2017, the network has 2 apparent major lobes: a large on and a smaller one (top right of large lobe). \n",
    "\n",
    "From Bull, 2008 (Figure 2D): \n",
    "<img src=\"paper_figs/bull_2008_network.png\">"
   ]
  },
  {
   "cell_type": "markdown",
   "metadata": {},
   "source": [
    "Webweb app network parameters for all networks: \n",
    "- Node charge: 5\n",
    "- Link length: 10\n",
    "- Link strength: 1\n",
    "- Gravity: 0.1\n",
    "- Node r: 4\n",
    "- Zoom level: 1"
   ]
  },
  {
   "cell_type": "markdown",
   "metadata": {},
   "source": [
    "Block-sharing network structure:\n",
    "<img src=\"networks/network_struct.svg\" width=\"350\" height=\"350\">"
   ]
  },
  {
   "cell_type": "markdown",
   "metadata": {},
   "source": [
    "Network analysis of DBLa tags:\n",
    "\n",
    "<img src=\"networks/network_cp.svg\" style=\"float: left; width: 45%; margin-right: 1%; margin-bottom: 0.5em;\">\n",
    "<img src=\"networks/network_cp_full.svg\" style=\"float: left; width: 45%; margin-right: 1%; margin-bottom: 0.5em;\">\n",
    "<img src=\"networks/network_bs.svg\" style=\"float: left; width: 45%; margin-right: 1%; margin-bottom: 0.5em;\">\n",
    "<img src=\"networks/network_bs_full.svg\" style=\"float: left; width: 45%; margin-right: 1%; margin-bottom: 0.5em;\">\n",
    "<img src=\"networks/network_ups.svg\" style=\"float: left; width: 45%; margin-right: 1%; margin-bottom: 0.5em;\">\n",
    "<img src=\"networks/network_dc.svg\" style=\"float: left; width: 45%; margin-right: 1%; margin-bottom: 0.5em;\">\n",
    "<img src=\"networks/network_epcr.svg\" style=\"float: left; width: 45%; margin-right: 1%; margin-bottom: 0.5em;\">\n",
    "<img src=\"networks/network_cd.svg\" style=\"float: left; width: 45%; margin-right: 1%; margin-bottom: 0.5em;\">\n"
   ]
  },
  {
   "cell_type": "markdown",
   "metadata": {},
   "source": [
    "Network analysis of DBLa tags from known DC8 var genes:"
   ]
  },
  {
   "cell_type": "code",
   "execution_count": 65,
   "metadata": {
    "collapsed": true
   },
   "outputs": [],
   "source": [
    "# Get known DC8 var genes tags\n",
    "tags_nodes = [\"RAJ116var08\", \"IT4var06\", \"IGHvar19\", \"MAL6P1.316\", \"PFCLINvar30\",\n",
    "       \"PF08_0140\", \"RAJ116var11\", \"PFCLINvar31\",\n",
    "       \"DD2var47\", \"IT4var20\",\n",
    "       \"IT4var19\", \"IT4var32b\",\n",
    "       \"C4187A_G2_109_0232\", \"C4140A_G2_110_0242\", \"C4187B_G2_795_1575\", \n",
    "       \"1983_3\", \"1983_1\", \"1965_1\"]"
   ]
  },
  {
   "cell_type": "code",
   "execution_count": 66,
   "metadata": {
    "collapsed": true
   },
   "outputs": [],
   "source": [
    "dc8_nodes = []\n",
    "dc8_ind = []\n",
    "bs_dc8 = []\n",
    "for i,tag in enumerate(df.Tag):\n",
    "    if tag in tags_nodes:\n",
    "        if tag == \"C4187A_G2_109_0232\":\n",
    "            tag_new = \"4187_dom1\"\n",
    "            dc8_nodes.append(tag_new)\n",
    "            dc8_ind.append(i)\n",
    "            bs_dc8.append(df.BS[i])\n",
    "            \n",
    "        elif tag == \"C4140A_G2_110_0242\":\n",
    "            tag_new = \"4140_dom\"\n",
    "            dc8_nodes.append(tag_new)\n",
    "            dc8_ind.append(i)\n",
    "            bs_dc8.append(df.BS[i])\n",
    "        \n",
    "        elif tag == \"C4187B_G2_795_1575\":\n",
    "            tag_new = \"4187_dom2\"\n",
    "            dc8_nodes.append(tag_new)\n",
    "            dc8_ind.append(i)\n",
    "            bs_dc8.append(df.BS[i])\n",
    "        \n",
    "        else:\n",
    "            dc8_nodes.append(tag)\n",
    "            dc8_ind.append(i)\n",
    "            bs_dc8.append(df.BS[i])\n",
    "bs_dc8 = [int(i) for i in bs_dc8]"
   ]
  },
  {
   "cell_type": "code",
   "execution_count": 67,
   "metadata": {},
   "outputs": [
    {
     "name": "stdout",
     "output_type": "stream",
     "text": [
      "1226\n",
      "1983_3\n",
      "2\n",
      "\n",
      "1227\n",
      "1983_1\n",
      "2\n",
      "\n",
      "1228\n",
      "1965_1\n",
      "2\n",
      "\n",
      "1229\n",
      "4187_dom1\n",
      "2\n",
      "\n",
      "1230\n",
      "4187_dom2\n",
      "2\n",
      "\n",
      "1232\n",
      "4140_dom\n",
      "2\n",
      "\n",
      "1274\n",
      "DD2var47\n",
      "0\n",
      "\n",
      "1337\n",
      "IGHvar19\n",
      "1\n",
      "\n",
      "1363\n",
      "IT4var06\n",
      "1\n",
      "\n",
      "1373\n",
      "IT4var19\n",
      "0\n",
      "\n",
      "1374\n",
      "IT4var20\n",
      "0\n",
      "\n",
      "1384\n",
      "IT4var32b\n",
      "0\n",
      "\n",
      "1407\n",
      "MAL6P1.316\n",
      "0\n",
      "\n",
      "1422\n",
      "PF08_0140\n",
      "2\n",
      "\n",
      "1451\n",
      "PFCLINvar30\n",
      "0\n",
      "\n",
      "1452\n",
      "PFCLINvar31\n",
      "2\n",
      "\n",
      "1519\n",
      "RAJ116var08\n",
      "0\n",
      "\n",
      "1522\n",
      "RAJ116var11\n",
      "2\n",
      "\n"
     ]
    }
   ],
   "source": [
    "for i in range(len(dc8_nodes)):\n",
    "    print(dc8_ind[i])\n",
    "    print(dc8_nodes[i])\n",
    "    print(bs_dc8[i])\n",
    "    print(\"\")"
   ]
  },
  {
   "cell_type": "code",
   "execution_count": 68,
   "metadata": {
    "collapsed": true
   },
   "outputs": [],
   "source": [
    "dc_tups = []\n",
    "for j in edges_list:\n",
    "    for ind in dc8_ind:\n",
    "        if ind == j[0] or ind == j[1]:\n",
    "            if j[0] in dc8_ind and j[1] in dc8_ind:\n",
    "                dc_tups.append(j)"
   ]
  },
  {
   "cell_type": "code",
   "execution_count": 69,
   "metadata": {
    "scrolled": true
   },
   "outputs": [
    {
     "data": {
      "text/plain": [
       "{(1226, 1227),\n",
       " (1226, 1229),\n",
       " (1226, 1230),\n",
       " (1226, 1232),\n",
       " (1227, 1229),\n",
       " (1227, 1230),\n",
       " (1227, 1232),\n",
       " (1228, 1229),\n",
       " (1228, 1230),\n",
       " (1229, 1230),\n",
       " (1229, 1232),\n",
       " (1230, 1232),\n",
       " (1274, 1374),\n",
       " (1373, 1384),\n",
       " (1422, 1522),\n",
       " (1452, 1522)}"
      ]
     },
     "execution_count": 69,
     "metadata": {},
     "output_type": "execute_result"
    }
   ],
   "source": [
    "set(dc_tups)"
   ]
  },
  {
   "cell_type": "markdown",
   "metadata": {},
   "source": [
    "Using Gephi, we get this network that replicates Githinji & Bull 2017:\n",
    "<br><br>\n",
    "<img src=\"figures/dc8_network.png\">"
   ]
  },
  {
   "cell_type": "markdown",
   "metadata": {},
   "source": [
    "### ▶ Visualization 3: Operator Receiver Curves"
   ]
  },
  {
   "cell_type": "markdown",
   "metadata": {
    "collapsed": true
   },
   "source": [
    "Get cys2 group from \"cys2_records\" list created above:"
   ]
  },
  {
   "cell_type": "code",
   "execution_count": 70,
   "metadata": {
    "collapsed": true
   },
   "outputs": [],
   "source": [
    "cys2_seqs = []\n",
    "for i in range(len(cys2_records)):\n",
    "    cys2_seqs.append(cys2_records[i].name)"
   ]
  },
  {
   "cell_type": "code",
   "execution_count": 71,
   "metadata": {
    "collapsed": true
   },
   "outputs": [],
   "source": [
    "cysteines2 = []; \n",
    "for i in range(len(sequences_list)):\n",
    "    if str(Name[i]) in cys2_seqs:\n",
    "        cysteines2.append(i)"
   ]
  },
  {
   "cell_type": "code",
   "execution_count": 72,
   "metadata": {
    "collapsed": true
   },
   "outputs": [],
   "source": [
    "# List of CIDRa1's:\n",
    "CIDRs = [\"CIDRa1.1\",\"CIDRa1.2\",\"CIDRa1.3\",\"CIDRa1.4\",\"CIDRa1.5\",\"CIDRa1.6\",\"CIDRa1.7\",\"CIDRa1.8\"]"
   ]
  },
  {
   "cell_type": "code",
   "execution_count": 73,
   "metadata": {
    "collapsed": true
   },
   "outputs": [],
   "source": [
    "# Tag classifiers used as predictors \n",
    "cys2bs1 = []; CP1 = []; cys2bs1_CP1 = []; cys2 = []\n",
    "# Full sequence classifiers, to be predicted by tag classifiers\n",
    "group_A = [];  DC8 = []; DC13 = []; CIDRa1 = [];"
   ]
  },
  {
   "cell_type": "code",
   "execution_count": 74,
   "metadata": {
    "collapsed": true
   },
   "outputs": [],
   "source": [
    "# Fill in lists above, order based on curated dataset\n",
    "for i in range(len(sequence)):\n",
    "    \n",
    "    # Exclude genomes 3D7 and IT4 seq's that were used for BS classifs\n",
    "    if genome[i] != \"3D7\" and genome[i] != \"IT4\":\n",
    "\n",
    "        group_A.append(1) if ups[i] == \"A\" else group_A.append(0)\n",
    "        CP1.append(1) if cys_PoLV_group[i] == 1 else CP1.append(0)      \n",
    "        CIDRa1.append(1) if CIDR[i] in CIDRs else CIDRa1.append(0)\n",
    "        cys2bs1.append(1)  if BS_group1[i] == 1 and i in cysteines2 else cys2bs1.append(0)  \n",
    "        cys2bs1_CP1.append(1) if cys_PoLV_group[i] == 1 or (BS_group1[i] == 1 and i in cysteines2) else cys2bs1_CP1.append(0) \n",
    "\n",
    "        cys2.append(1) if i in cysteines2 else cys2.append(0)\n",
    "        DC13.append(1) if cassette[i] == \"DC13\" else DC13.append(0)\n",
    "        DC8.append(1) if cassette[i] == \"DC8\" else DC8.append(0)"
   ]
  },
  {
   "cell_type": "code",
   "execution_count": 75,
   "metadata": {
    "collapsed": true
   },
   "outputs": [],
   "source": [
    "# Function to calculate FPR and TPR and plot ROC curve\n",
    "def model_roc(predictor, response, color, legend_label):\n",
    "    \n",
    "    # Turn predictor and response lists to arrays & reshape them (-1,1)\n",
    "    predictor_array = np.array(predictor).reshape(-1, 1)\n",
    "    response_array = np.array(response).reshape(-1, 1)\n",
    "    \n",
    "    # Make log regression model & fit training data to train\n",
    "    model = LogisticRegression()\n",
    "    model.fit(predictor_array, response_array)\n",
    "     \n",
    "    # Predict probabilities\n",
    "    pred_probs = model.predict_proba(predictor_array)[:,1]\n",
    "    \n",
    "    # ROC curve & AUC\n",
    "    fpr, tpr, threshold = metrics.roc_curve(response_array, pred_probs)\n",
    "    roc_auc = metrics.auc(fpr, tpr)\n",
    "    \n",
    "    # Scoring model\n",
    "    model_score = model.score(predictor_array, response_array)\n",
    "    \n",
    "    \n",
    "    plt.plot(fpr, tpr, color=color,\n",
    "             lw=2, label= legend_label + ' (AUC = %0.2f)' % roc_auc)\n",
    "    plt.plot([0, 1], [0, 1], color='darkgray', lw=2, linestyle='--')\n",
    "    plt.xlabel('False Positive Rate')\n",
    "    plt.ylabel('True Positive Rate')\n",
    "    plt.legend(loc=\"lower right\", prop={'size':10})"
   ]
  },
  {
   "cell_type": "code",
   "execution_count": 76,
   "metadata": {
    "scrolled": false
   },
   "outputs": [
    {
     "name": "stderr",
     "output_type": "stream",
     "text": [
      "/Users/dieumynguyen/anaconda3/lib/python3.6/site-packages/sklearn/utils/validation.py:578: DataConversionWarning:\n",
      "\n",
      "A column-vector y was passed when a 1d array was expected. Please change the shape of y to (n_samples, ), for example using ravel().\n",
      "\n"
     ]
    }
   ],
   "source": [
    "import plotly.tools as tls\n",
    "\n",
    "mpl.rcParams.update({'font.size': 13})\n",
    "mpl.rc('figure', figsize=(11, 9))\n",
    "\n",
    "fig = plt.figure()\n",
    "\n",
    "\n",
    "ax1 = fig.add_subplot(221)\n",
    "model_roc(cys2bs1, group_A, \"crimson\", \"groupA ~ cys2bs1\")\n",
    "model_roc(cys2bs1_CP1, group_A, \"dodgerblue\", \"groupA ~ cys2bs1_CP1\")\n",
    "model_roc(cys2, group_A, \"dimgray\", \"groupA ~ cys2\")\n",
    "plt.title('Predicting upsA from DBLa tags')\n",
    "\n",
    "\n",
    "ax2 = fig.add_subplot(222)\n",
    "model_roc(cys2bs1, DC8, \"crimson\", \"DC8 ~ cys2bs1\")\n",
    "model_roc(cys2bs1_CP1, DC8, \"dodgerblue\", \"DC8 ~ cys2bs1_CP1\")\n",
    "model_roc(cys2, DC8, \"dimgray\", \"DC8 ~ cys2\")\n",
    "plt.title('Predicting DC8 from DBLa tags')\n",
    "\n",
    "ax3 = fig.add_subplot(223)\n",
    "model_roc(cys2bs1, DC13, \"crimson\", \"DC13 ~ cys2bs1\")\n",
    "model_roc(cys2bs1_CP1, DC13, \"dodgerblue\", \"DC13 ~ cys2bs1_CP1\")\n",
    "model_roc(cys2, DC13, \"dimgray\", \"DC13 ~ cys2\")\n",
    "plt.title('Predicting DC13 from DBLa tags')\n",
    "\n",
    "\n",
    "ax4 = fig.add_subplot(224)\n",
    "model_roc(cys2bs1, CIDRa1, \"crimson\", \"CIDRa1 ~ cys2bs1\")\n",
    "model_roc(cys2bs1_CP1, CIDRa1, \"dodgerblue\", \"CIDRa1 ~ cys2bs1_CP1\")\n",
    "model_roc(cys2, CIDRa1, \"dimgray\", \"CIDRa1 ~ cys2\")\n",
    "plt.title('Predicting CIDRa1 from DBLa tags')\n",
    "\n",
    "ax1.spines['right'].set_visible(False)\n",
    "ax1.spines['top'].set_visible(False)\n",
    "ax2.spines['right'].set_visible(False)\n",
    "ax2.spines['top'].set_visible(False)\n",
    "ax3.spines['right'].set_visible(False)\n",
    "ax3.spines['top'].set_visible(False)\n",
    "ax4.spines['right'].set_visible(False)\n",
    "ax4.spines['top'].set_visible(False)\n"
   ]
  }
 ],
 "metadata": {
  "kernelspec": {
   "display_name": "Python 3",
   "language": "python",
   "name": "python3"
  },
  "language_info": {
   "codemirror_mode": {
    "name": "ipython",
    "version": 3
   },
   "file_extension": ".py",
   "mimetype": "text/x-python",
   "name": "python",
   "nbconvert_exporter": "python",
   "pygments_lexer": "ipython3",
   "version": "3.6.2"
  }
 },
 "nbformat": 4,
 "nbformat_minor": 2
}
